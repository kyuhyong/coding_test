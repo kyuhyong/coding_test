{
 "cells": [
  {
   "cell_type": "code",
   "execution_count": 1,
   "id": "7095c32f",
   "metadata": {},
   "outputs": [],
   "source": [
    "# 엄마 말씀 word가 매개변수로 주어질 때, 아래 사전을 참고하여 반대로 변환 후 return\n",
    "# A B C D E F G H I J K L M N O P Q R S T U V W X Y Z\n",
    "# Z Y X W V U T S R Q P O N M L K J I H G F E D C B A\n",
    "\n",
    "# 1<= word 길이 <= 1,000\n",
    "# 알파벳 외의 문자는 변환하지 않는다.\n",
    "# 알파벳 대문자는 대문자로, 소문자는 소문자로 변환한다\n",
    "# 입출력 예\n",
    "# word       -> result\n",
    "# I love you -> R olev blf\n",
    "# "
   ]
  },
  {
   "cell_type": "code",
   "execution_count": 19,
   "id": "79a2725e",
   "metadata": {},
   "outputs": [
    {
     "name": "stdout",
     "output_type": "stream",
     "text": [
      "R olev blf\n"
     ]
    }
   ],
   "source": [
    "word = \"I love you\"\n",
    "\n",
    "alphabet = list(\"ABCDEFGHIJKLMNOPQRSTUVWXYZ\")\n",
    "reverse = list(''.join(reversed(alphabet)))\n",
    "dic_up = dict()\n",
    "dic_up = {key: val for key, val in zip(alphabet, reverse)}\n",
    "alphabet = list(\"abcdefghijklmnopqrstuvwxyz\")\n",
    "reverse = list(''.join(reversed(alphabet)))\n",
    "dic_lo = dict()\n",
    "dic_lo = {key: val for key, val in zip(alphabet, reverse)}\n",
    "\n",
    "#print(dic)\n",
    "word_list = list(word)\n",
    "#print(word_list)\n",
    "outStr = []\n",
    "for char in word_list:\n",
    "    if char.isupper():\n",
    "        outStr.append(dic_up.get(char))\n",
    "    elif char.islower():\n",
    "        outStr.append(dic_lo.get(char))\n",
    "    else:\n",
    "        outStr.append(char)\n",
    "        \n",
    "print(\"\".join(outStr))"
   ]
  },
  {
   "cell_type": "code",
   "execution_count": null,
   "id": "dd634427",
   "metadata": {},
   "outputs": [],
   "source": []
  }
 ],
 "metadata": {
  "kernelspec": {
   "display_name": "Python 3 (ipykernel)",
   "language": "python",
   "name": "python3"
  },
  "language_info": {
   "codemirror_mode": {
    "name": "ipython",
    "version": 3
   },
   "file_extension": ".py",
   "mimetype": "text/x-python",
   "name": "python",
   "nbconvert_exporter": "python",
   "pygments_lexer": "ipython3",
   "version": "3.8.10"
  }
 },
 "nbformat": 4,
 "nbformat_minor": 5
}
