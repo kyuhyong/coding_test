{
 "cells": [
  {
   "cell_type": "code",
   "execution_count": 1,
   "id": "9df7f972",
   "metadata": {},
   "outputs": [],
   "source": [
    "# We draw N discs on a plane. \n",
    "# The discs are numbered from 0 to N − 1. \n",
    "# An array A of N non-negative integers, specifying the radiuses of the discs, is given. \n",
    "# The J-th disc is drawn with its center at (J, 0) and radius A[J].\n",
    "\n",
    "# We say that the J-th disc and K-th disc intersect \n",
    "# if J ≠ K and the J-th and K-th discs have at least one common point \n",
    "# (assuming that the discs contain their borders).\n",
    "\n",
    "# The figure below shows discs drawn for N = 6 and A as follows:\n",
    "\n",
    "#  A[0] = 1\n",
    "#  A[1] = 5\n",
    "#  A[2] = 2\n",
    "#  A[3] = 1\n",
    "#  A[4] = 4\n",
    "#  A[5] = 0\n",
    "\n",
    "# disc 0 intersect with     1, 2,    4     -> 3\n",
    "# disc 1 intersect with *0,    2, 3, 4, 5  -> 4\n",
    "# disc 2 intersect with *0,*1,    3, 4     -> 2\n",
    "# disc 3 intersect with    *1,*2,    4     -> 1\n",
    "# disc 4 intersect with *0,*1,*2,*3,    5  -> 1\n",
    "# disc 5 intersect with    *1,      *4  \n",
    "\n",
    "# (0,1) (0,2) (0,4) \n",
    "# (1,2) (1,3) (1,4) (1,5) \n",
    "# (2,3) (2,4) \n",
    "# (3,4)\n",
    "# (4,5)\n",
    "\n",
    "# return 11\n"
   ]
  },
  {
   "cell_type": "code",
   "execution_count": null,
   "id": "9754cf6b",
   "metadata": {},
   "outputs": [],
   "source": [
    "# 디스크의 모양을 다음과 같이 표식화 하면\n",
    "#       -1 0 1\n",
    "# -4         1              6\n",
    "#          0   2       4\n",
    "#              2   3   4\n",
    "#          0           4           8\n",
    "#                         5\n",
    "\n",
    "# 디스크의 시작점을 lower, 끝점을 upper 라고 하고 lower 기준으로 정렬\n",
    "# A -4         1              6\n",
    "# B       -1 0 1\n",
    "# C          0   2       4\n",
    "# D          0           4           8\n",
    "# E              2   3   4\n",
    "# F                        5"
   ]
  },
  {
   "cell_type": "code",
   "execution_count": 12,
   "id": "9bfbb49a",
   "metadata": {},
   "outputs": [
    {
     "name": "stdout",
     "output_type": "stream",
     "text": [
      "11\n"
     ]
    }
   ],
   "source": [
    "arr = [1,5,2,1,4,0]\n",
    "\n",
    "def solution(A):\n",
    "    # write your code in Python 3.6\n",
    "    if len(A)<= 1:\n",
    "        return 0\n",
    "    count = 0\n",
    "    lower = []\n",
    "    upper = []\n",
    "    for i in range(0,len(A)):\n",
    "        lower.append(i-A[i])\n",
    "        upper.append(i+A[i])\n",
    "    lower.sort()\n",
    "    upper.sort()\n",
    "    j=0\n",
    "    count = 0\n",
    "    #print(lower)\n",
    "    #print(upper)\n",
    "    for i in range(0, len(A)):\n",
    "        while(j < len(A) and lower[j] <= upper[i]): # j번째 lower가 upper보다 크면 다음 차례로\n",
    "            count += j #+ 1 - 1 #자기 자신은 제외(-1)\n",
    "            count -= i #이미 upper의 index로 센 원들의 개수는 빼버림\n",
    "            j = j + 1\n",
    "            \n",
    "            if count > 1e7:\n",
    "                return -1\n",
    "    return count\n",
    "\n",
    "print(solution(arr))"
   ]
  },
  {
   "cell_type": "code",
   "execution_count": null,
   "id": "4d1ecef3",
   "metadata": {},
   "outputs": [],
   "source": []
  }
 ],
 "metadata": {
  "kernelspec": {
   "display_name": "Python 3 (ipykernel)",
   "language": "python",
   "name": "python3"
  },
  "language_info": {
   "codemirror_mode": {
    "name": "ipython",
    "version": 3
   },
   "file_extension": ".py",
   "mimetype": "text/x-python",
   "name": "python",
   "nbconvert_exporter": "python",
   "pygments_lexer": "ipython3",
   "version": "3.8.10"
  }
 },
 "nbformat": 4,
 "nbformat_minor": 5
}
