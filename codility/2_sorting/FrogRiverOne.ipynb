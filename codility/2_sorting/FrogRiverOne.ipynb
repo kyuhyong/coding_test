{
 "cells": [
  {
   "cell_type": "code",
   "execution_count": 1,
   "id": "71fa493d",
   "metadata": {},
   "outputs": [],
   "source": [
    "# A small frog wants to get to the other side of a river. \n",
    "# The frog is initially located on one bank of the river (position 0) \n",
    "# and wants to get to the opposite bank (position X+1). \n",
    "# Leaves fall from a tree onto the surface of the river.\n",
    "\n",
    "# You are given an array A consisting of N integers representing the falling leaves. \n",
    "# A[K] represents the position where one leaf falls at time K, measured in seconds.\n",
    "\n",
    "# The goal is to find the earliest time when the frog can jump \n",
    "# to the other side of the river. \n",
    "\n",
    "# The frog can cross only when leaves appear at every position \n",
    "# across the river from 1 to X (that is, we want to find the earliest moment \n",
    "# when all the positions from 1 to X are covered by leaves). \n",
    "\n",
    "# You may assume that the speed of the current in the river is negligibly small, \n",
    "# i.e. the leaves do not change their positions once they fall in the river.\n",
    "\n",
    "# For example, you are given integer X = 5 and array A such that:\n",
    "\n",
    "#  A[0] = 1\n",
    "#  A[1] = 3\n",
    "#  A[2] = 1\n",
    "#  A[3] = 4\n",
    "#  A[4] = 2\n",
    "#  A[5] = 3\n",
    "#  A[6] = 5\n",
    "#  A[7] = 4\n",
    "\n",
    "# In second 6, a leaf falls into position 5. \n",
    "# This is the earliest time when leaves appear in every position across the river.\n",
    "\n",
    "# Write a function:\n",
    "\n",
    "# def solution(X, A)\n",
    "\n",
    "# that, given a non-empty array A consisting of N integers and integer X, \n",
    "# returns the earliest time when the frog can jump to the other side of the river."
   ]
  },
  {
   "cell_type": "code",
   "execution_count": 2,
   "id": "be38bd15",
   "metadata": {},
   "outputs": [],
   "source": [
    "# 해석\n",
    "# X=5 인 경우\n",
    "# 나뭇잎이 1에서 5까지 연속으로 다 떨어져 있어야 한다.\n",
    "# 0초 1\n",
    "# 1초    3\n",
    "# 2초 1(중복)\n",
    "# 3초     4\n",
    "# 4초  2\n",
    "# 5초   3(중복)\n",
    "# 6초      5 (성공)!\n",
    "# 7초     4(중복)\n",
    "\n",
    "# 1\n",
    "# 1\n",
    "#  2\n",
    "#   3\n",
    "#   3\n",
    "#    4\n",
    "#    4\n",
    "#     5\n"
   ]
  },
  {
   "cell_type": "code",
   "execution_count": 9,
   "id": "43cafcd2",
   "metadata": {},
   "outputs": [
    {
     "name": "stdout",
     "output_type": "stream",
     "text": [
      "0\n"
     ]
    }
   ],
   "source": [
    "#x = 5\n",
    "#arr = [1,3,1,4,2,3,5,4]\n",
    "x = 1\n",
    "arr = [1]\n",
    "\n",
    "def solution(X, A):\n",
    "    count = 0\n",
    "    exist = [0]*100001\n",
    "    i = 0\n",
    "    for i in range(len(A)):\n",
    "        count+=1\n",
    "        if not exist[A[i]]:\n",
    "            exist[A[i]] = 1\n",
    "            X-=1\n",
    "            if not X:\n",
    "                return count - 1\n",
    "    return -1\n",
    "\n",
    "print(solution(x,arr))"
   ]
  },
  {
   "cell_type": "code",
   "execution_count": null,
   "id": "fc5a23cd",
   "metadata": {},
   "outputs": [],
   "source": []
  }
 ],
 "metadata": {
  "kernelspec": {
   "display_name": "Python 3 (ipykernel)",
   "language": "python",
   "name": "python3"
  },
  "language_info": {
   "codemirror_mode": {
    "name": "ipython",
    "version": 3
   },
   "file_extension": ".py",
   "mimetype": "text/x-python",
   "name": "python",
   "nbconvert_exporter": "python",
   "pygments_lexer": "ipython3",
   "version": "3.8.10"
  }
 },
 "nbformat": 4,
 "nbformat_minor": 5
}
