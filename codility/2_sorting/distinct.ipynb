{
 "cells": [
  {
   "cell_type": "code",
   "execution_count": 1,
   "id": "0f41ddf0",
   "metadata": {},
   "outputs": [],
   "source": [
    "#Write a function\n",
    "\n",
    "#def solution(A)\n",
    "\n",
    "# that, given an array A consisting of N integers, returns the number of distinct values \n",
    "# in array A.\n",
    "\n",
    "#For example, given array A consisting of six elements such that:\n",
    "\n",
    "# A[0] = 2    A[1] = 1    A[2] = 1\n",
    "# A[3] = 2    A[4] = 3    A[5] = 1\n",
    "# the function should return 3, because there are 3 distinct values \n",
    "# appearing in array A, namely 1, 2 and 3.\n",
    "\n",
    "# Write an efficient algorithm for the following assumptions:\n",
    "\n",
    "# N is an integer within the range [0..100,000];\n",
    "# each element of array A is an integer within the range [−1,000,000..1,000,000].\n"
   ]
  },
  {
   "cell_type": "code",
   "execution_count": 25,
   "id": "03a9bd40",
   "metadata": {},
   "outputs": [
    {
     "name": "stdout",
     "output_type": "stream",
     "text": [
      "0 1\n",
      "0 2\n",
      "0 3\n",
      "0 4\n",
      "0 5\n"
     ]
    },
    {
     "ename": "IndexError",
     "evalue": "list index out of range",
     "output_type": "error",
     "traceback": [
      "\u001b[0;31m---------------------------------------------------------------------------\u001b[0m",
      "\u001b[0;31mIndexError\u001b[0m                                Traceback (most recent call last)",
      "Input \u001b[0;32mIn [25]\u001b[0m, in \u001b[0;36m<cell line: 18>\u001b[0;34m()\u001b[0m\n\u001b[1;32m     15\u001b[0m                 \u001b[38;5;28;01mdel\u001b[39;00m A[j]\n\u001b[1;32m     16\u001b[0m     \u001b[38;5;28;01mreturn\u001b[39;00m \u001b[38;5;28mlen\u001b[39m(A)\n\u001b[0;32m---> 18\u001b[0m \u001b[38;5;28mprint\u001b[39m(\u001b[43msolution\u001b[49m\u001b[43m(\u001b[49m\u001b[43marr\u001b[49m\u001b[43m)\u001b[49m)\n",
      "Input \u001b[0;32mIn [25]\u001b[0m, in \u001b[0;36msolution\u001b[0;34m(A)\u001b[0m\n\u001b[1;32m     11\u001b[0m     \u001b[38;5;28;01mfor\u001b[39;00m j \u001b[38;5;129;01min\u001b[39;00m \u001b[38;5;28mrange\u001b[39m(i\u001b[38;5;241m+\u001b[39m\u001b[38;5;241m1\u001b[39m, \u001b[38;5;28mlen\u001b[39m(A)\u001b[38;5;241m-\u001b[39m\u001b[38;5;241m1\u001b[39m):\n\u001b[1;32m     12\u001b[0m         \u001b[38;5;28mprint\u001b[39m(i,j)\n\u001b[0;32m---> 13\u001b[0m         \u001b[38;5;28;01mif\u001b[39;00m A[i] \u001b[38;5;241m==\u001b[39m \u001b[43mA\u001b[49m\u001b[43m[\u001b[49m\u001b[43mj\u001b[49m\u001b[43m]\u001b[49m:\n\u001b[1;32m     14\u001b[0m             \u001b[38;5;66;03m#print(A[i])\u001b[39;00m\n\u001b[1;32m     15\u001b[0m             \u001b[38;5;28;01mdel\u001b[39;00m A[j]\n\u001b[1;32m     16\u001b[0m \u001b[38;5;28;01mreturn\u001b[39;00m \u001b[38;5;28mlen\u001b[39m(A)\n",
      "\u001b[0;31mIndexError\u001b[0m: list index out of range"
     ]
    }
   ],
   "source": [
    "# My approach\n",
    "#n = int(input())\n",
    "#a = list(map(int, intput().split()))\n",
    "#arr = [2, 1, 1, 2, 3, 1]\n",
    "arr = [1,1,1,1,1,1,1,1,1]\n",
    "\n",
    "def solution(A):\n",
    "    if len(A)<= 1:\n",
    "        return len(A)\n",
    "    for i in range(0, len(A)-1):\n",
    "        \n",
    "        for j in range(i+1, len(A)-1):\n",
    "            print(i,j)\n",
    "            if A[i] == A[j]:\n",
    "                #print(A[i])\n",
    "                del A[j]\n",
    "    return len(A)\n",
    "\n",
    "print(solution(arr))\n"
   ]
  },
  {
   "cell_type": "code",
   "execution_count": 30,
   "id": "3c0020fb",
   "metadata": {},
   "outputs": [
    {
     "name": "stdout",
     "output_type": "stream",
     "text": [
      "1\n"
     ]
    }
   ],
   "source": [
    "# Codility answer\n",
    "arr = [1,1,1,1,1,1,1,1,1]\n",
    "\n",
    "def solution(A):\n",
    "    if len(A) == 0:\n",
    "        distinct = 0\n",
    "    else:\n",
    "        distinct = 1\n",
    "        A.sort()\n",
    "        for index in range(1, len(A)):\n",
    "            if A[index] == A[index-1]:\n",
    "                # The same element as the previous one\n",
    "                continue\n",
    "            else:\n",
    "                # A new element\n",
    "                distinct += 1\n",
    "    return distinct\n",
    "\n",
    "print(solution(arr))"
   ]
  },
  {
   "cell_type": "code",
   "execution_count": null,
   "id": "2b15617c",
   "metadata": {},
   "outputs": [],
   "source": []
  }
 ],
 "metadata": {
  "kernelspec": {
   "display_name": "Python 3 (ipykernel)",
   "language": "python",
   "name": "python3"
  },
  "language_info": {
   "codemirror_mode": {
    "name": "ipython",
    "version": 3
   },
   "file_extension": ".py",
   "mimetype": "text/x-python",
   "name": "python",
   "nbconvert_exporter": "python",
   "pygments_lexer": "ipython3",
   "version": "3.8.10"
  }
 },
 "nbformat": 4,
 "nbformat_minor": 5
}
