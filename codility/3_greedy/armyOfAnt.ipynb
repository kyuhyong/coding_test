{
 "cells": [
  {
   "cell_type": "code",
   "execution_count": 1,
   "id": "3c98b326",
   "metadata": {},
   "outputs": [],
   "source": [
    "# 식량 창고에는 정해진 식량을 저장하고 있고 개미는 선택적으로 약탈\n",
    "# 정찰병은 일직선상에 존재하는 식량 창고중에서 서로 인접한 식량창고가 공격받으면 알아챔\n",
    "# 따라서 들키지 않고 약탈하기 위해서는 최소 한칸 이상 떨어진 식량 창고를 약탈해야 함\n"
   ]
  },
  {
   "cell_type": "code",
   "execution_count": 2,
   "id": "190cfe1b",
   "metadata": {},
   "outputs": [],
   "source": [
    "# 식량창고의 개수 N\n",
    "# 공백 기준 각 식량 창고에 저장된 식량의 개수 K\n",
    "# 0<= K <= 1000\n",
    "# 출력 조건: 개미 전사가 얻을 수 있는 식량의 최대값을 출력"
   ]
  },
  {
   "cell_type": "code",
   "execution_count": 3,
   "id": "af86e860",
   "metadata": {},
   "outputs": [],
   "source": [
    "# ai=i 번째 식량창고까지의 최적의 해\n",
    "#         a0 a1 a2 a3\n",
    "#DP table 1  3  3  8\n"
   ]
  },
  {
   "cell_type": "code",
   "execution_count": 4,
   "id": "e2ddeba0",
   "metadata": {},
   "outputs": [],
   "source": [
    "# 아이디어\n",
    "# ai = i번째 식량창고까지의 최적의 해(얻을 수 있는 식량의 최댓값)\n",
    "# ki = i번째 식량창고에 있는 식량의 양\n",
    "# 점화식: ai = max(a[i-1], a[i-2]+ki)\n",
    "# 한칸 이상 떨어진 식량창고는 항상 털 수 있으므로 (i-3)번째 이하는 고려 안함\n"
   ]
  },
  {
   "cell_type": "code",
   "execution_count": 21,
   "id": "fd0ece51",
   "metadata": {},
   "outputs": [
    {
     "name": "stdout",
     "output_type": "stream",
     "text": [
      "[1, 3, 3, 8]\n",
      "8\n",
      "[10, 10, 13, 13, 18, 19, 19, 31, 40, 40]\n",
      "40\n",
      "[2, 2, 2, 5, 6, 6, 12, 12, 12, 13]\n",
      "13\n",
      "[-1, -1, -1, -1, -1]\n",
      "-1\n"
     ]
    }
   ],
   "source": [
    "#n=int(input())\n",
    "#arr = list(map(int, input().split()))\n",
    "n1=4\n",
    "arr1 = [1,3,1,5]\n",
    "n2=10\n",
    "arr2 = [10,-4,3,1,5,6,-35,12,21,-1]\n",
    "n3=10\n",
    "arr3=[2, 1, -4, 3, 4, -4, 6, 5, -5, 1]\n",
    "n4=5\n",
    "arr4=[-1, -2, -3, -4, -5]\n",
    "\n",
    "def solution(N, A):\n",
    "    # 앞서 계산된 결과를 저장하기 위한 DP 테이블 초기화\n",
    "    d=[0]*N\n",
    "    \n",
    "    # 다이나믹 프로그래밍 진행 (보텀 업)\n",
    "    d[0] = A[0]\n",
    "    d[1] = max(A[0], A[1])\n",
    "    \n",
    "    for i in range(2, N):\n",
    "        d[i] = max(d[i-1], d[i-2] + A[i])\n",
    "    #print(d)\n",
    "    return d[N-1]\n",
    "\n",
    "print(solution(n1, arr1))\n",
    "print(solution(n2, arr2))\n",
    "print(solution(n3, arr3))\n",
    "print(solution(n4, arr4))"
   ]
  },
  {
   "cell_type": "code",
   "execution_count": null,
   "id": "a18575bf",
   "metadata": {},
   "outputs": [],
   "source": []
  }
 ],
 "metadata": {
  "kernelspec": {
   "display_name": "Python 3 (ipykernel)",
   "language": "python",
   "name": "python3"
  },
  "language_info": {
   "codemirror_mode": {
    "name": "ipython",
    "version": 3
   },
   "file_extension": ".py",
   "mimetype": "text/x-python",
   "name": "python",
   "nbconvert_exporter": "python",
   "pygments_lexer": "ipython3",
   "version": "3.8.10"
  }
 },
 "nbformat": 4,
 "nbformat_minor": 5
}
