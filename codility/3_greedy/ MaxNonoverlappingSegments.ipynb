{
 "cells": [
  {
   "cell_type": "code",
   "execution_count": 2,
   "id": "ac74872a",
   "metadata": {},
   "outputs": [],
   "source": [
    "# Located on a line are N segments, numbered from 0 to N − 1, \n",
    "# whose positions are given in arrays A and B. \n",
    "# For each I (0 ≤ I < N) the position of segment I is from A[I] to B[I] (inclusive). \n",
    "# The segments are sorted by their ends, which means that B[K] ≤ B[K + 1] for K \n",
    "# such that 0 ≤ K < N − 1.\n",
    "\n",
    "# Two segments I and J, such that I ≠ J, are overlapping \n",
    "# if they share at least one common point. \n",
    "# In other words, A[I] ≤ A[J] ≤ B[I] or A[J] ≤ A[I] ≤ B[J].\n",
    "\n",
    "# We say that the set of segments is non-overlapping \n",
    "# if it contains no two overlapping segments. \n",
    "# The goal is to find the size of a non-overlapping set \n",
    "# containing the maximal number of segments."
   ]
  },
  {
   "cell_type": "code",
   "execution_count": 3,
   "id": "4c607334",
   "metadata": {},
   "outputs": [],
   "source": [
    "# For example, consider arrays A, B such that:\n",
    "\n",
    "#    A[0] = 1    B[0] = 5\n",
    "#    A[1] = 3    B[1] = 6\n",
    "#    A[2] = 7    B[2] = 8\n",
    "#    A[3] = 9    B[3] = 9\n",
    "#    A[4] = 9    B[4] = 10\n",
    "\n",
    "# The segments are shown in the figure below.\n",
    "# seg# 0 1 2 3 4 5 6 7 8 9 10\n",
    "#  0     1-------5\n",
    "#  1         3-----6\n",
    "#  2                 7-8\n",
    "#  3                     9\n",
    "#  4                     9-10\n",
    "\n",
    "# The size of a non-overlapping set containing a maximal number of segments is 3. \n",
    "# For example, possible sets are \n",
    "# {0, 2, 3}, {0, 2, 4}, {1, 2, 3} or {1, 2, 4}. \n",
    "# There is no non-overlapping set with four segments.\n",
    "\n",
    "# Write a function:\n",
    "\n",
    "# def solution(A, B)\n",
    "\n",
    "# that, given two arrays A and B consisting of N integers, \n",
    "# returns the size of a non-overlapping set containing a maximal number of segments.\n",
    "# For example, given arrays A, B shown above, \n",
    "# the function should return 3, as explained above."
   ]
  },
  {
   "cell_type": "code",
   "execution_count": 4,
   "id": "cf27fc69",
   "metadata": {},
   "outputs": [],
   "source": [
    "# Write an efficient algorithm for the following assumptions:\n",
    "\n",
    "# N is an integer within the range [0..30,000];\n",
    "# each element of arrays A and B is an integer within the range [0..1,000,000,000];\n",
    "# A[I] ≤ B[I], for each I (0 ≤ I < N);\n",
    "# B[K] ≤ B[K + 1], for each K (0 ≤ K < N − 1).\n"
   ]
  },
  {
   "cell_type": "code",
   "execution_count": 9,
   "id": "5febace7",
   "metadata": {},
   "outputs": [
    {
     "name": "stdout",
     "output_type": "stream",
     "text": [
      "[[1, 5], [3, 6], [7, 8], [9, 9], [9, 10]]\n",
      "Current end: 5  Line 2 [7, 8]\n",
      "Current end: 8  Line 3 [9, 9]\n",
      "3\n"
     ]
    }
   ],
   "source": [
    "a = [1,3,7,9,9]\n",
    "b = [5,6,8,9,10]\n",
    "\n",
    "def solution(A, B):\n",
    "    # 배열의 크기는 선의 개수\n",
    "    N = len(A)\n",
    "    if N == 0: return 0\n",
    "    if N == 1: return 1\n",
    "    \n",
    "    # 탐욕적으로 생각해보았을 때 최대의 갯수만 가지면 된다.\n",
    "    LINE = []\n",
    "    for i in range(N):\n",
    "        LINE.append([A[i], B[i]])\n",
    "    # 시간복잡도를 고려, 라인의 끝점이 작으면서 시작점이 작은 순으로 정리\n",
    "    LINE.sort(key=lambda x: (x[1], x[0]))\n",
    "    print(LINE)\n",
    "    \n",
    "    # 가장 먼저 온 라인이 가장 작을 것이므로 갯수를 하나 증가시키며, 끝점으로 잡아준다.\n",
    "    end_point = LINE[0][1]\n",
    "    cnt = 1\n",
    "    \n",
    "    for i in range(1, N):\n",
    "        # 시작점이 현재 내가 가지고 있는 끝점보다 클 경우에는 갯수를 증가시키며 끝점을 바꿔준다\n",
    "        if end_point < LINE[i][0]:\n",
    "            print(\"Current end:\",end_point,\" Line\",i, LINE[i] )\n",
    "            end_point = LINE[i][1]\n",
    "            cnt += 1\n",
    "    \n",
    "    return cnt\n",
    "\n",
    "print(solution(a,b))"
   ]
  },
  {
   "cell_type": "code",
   "execution_count": null,
   "id": "81793951",
   "metadata": {},
   "outputs": [],
   "source": []
  }
 ],
 "metadata": {
  "kernelspec": {
   "display_name": "Python 3 (ipykernel)",
   "language": "python",
   "name": "python3"
  },
  "language_info": {
   "codemirror_mode": {
    "name": "ipython",
    "version": 3
   },
   "file_extension": ".py",
   "mimetype": "text/x-python",
   "name": "python",
   "nbconvert_exporter": "python",
   "pygments_lexer": "ipython3",
   "version": "3.8.10"
  }
 },
 "nbformat": 4,
 "nbformat_minor": 5
}
