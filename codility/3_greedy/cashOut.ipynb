{
 "cells": [
  {
   "cell_type": "code",
   "execution_count": 1,
   "id": "82e7f45b",
   "metadata": {},
   "outputs": [],
   "source": [
    "# 매개변수 money\n",
    "# 1<= money <= 1,000,000 \n",
    "# 화폐 단위 = [50000, 10000, 5000, 1000, 500, 100, 50, 10, 1]\n",
    "# 돈의 액수 money 가 주어질 때, 화폐 단위가 각 몇개로 변환되는지 금액이 큰 순서대로 배열에 담아 return\n"
   ]
  },
  {
   "cell_type": "code",
   "execution_count": 2,
   "id": "1b1ac4c8",
   "metadata": {},
   "outputs": [],
   "source": [
    "# 입출력 예\n",
    "# money result\n",
    "# 50237 [1,0,0,0,0,2,0,3,7]\n",
    "# 15000 [0,1,1,0,0,0,0,0,0]\n"
   ]
  },
  {
   "cell_type": "code",
   "execution_count": 6,
   "id": "0a3b6824",
   "metadata": {},
   "outputs": [
    {
     "name": "stdout",
     "output_type": "stream",
     "text": [
      "[0, 1, 1, 0, 0, 0, 0, 0, 0]\n"
     ]
    }
   ],
   "source": [
    "#m=50237\n",
    "m=15000\n",
    "coins = [50000,10000,5000,1000,500,100,50,10,1]\n",
    "def solution(money, coinList):\n",
    "    count = 0\n",
    "    idx = 0\n",
    "    cashList = [0]*len(coinList)\n",
    "    for coin in coinList:\n",
    "        num = (money // coin)\n",
    "        if num > 0:\n",
    "            cashList[idx] = num\n",
    "        money %= coin\n",
    "        idx+=1\n",
    "    \n",
    "    return cashList\n",
    "\n",
    "print(solution(m, coins))"
   ]
  },
  {
   "cell_type": "code",
   "execution_count": null,
   "id": "48bf1423",
   "metadata": {},
   "outputs": [],
   "source": []
  }
 ],
 "metadata": {
  "kernelspec": {
   "display_name": "Python 3 (ipykernel)",
   "language": "python",
   "name": "python3"
  },
  "language_info": {
   "codemirror_mode": {
    "name": "ipython",
    "version": 3
   },
   "file_extension": ".py",
   "mimetype": "text/x-python",
   "name": "python",
   "nbconvert_exporter": "python",
   "pygments_lexer": "ipython3",
   "version": "3.8.10"
  }
 },
 "nbformat": 4,
 "nbformat_minor": 5
}
