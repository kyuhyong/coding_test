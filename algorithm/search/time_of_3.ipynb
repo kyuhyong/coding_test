{
 "cells": [
  {
   "cell_type": "code",
   "execution_count": 1,
   "id": "0a1f0850",
   "metadata": {},
   "outputs": [],
   "source": [
    "# 정수 N이 입력되면 00시 00분 00초부터 N시 59분 59초까지의 모든 시각 중에서\n",
    "# 3이 하나라도 포함되는 모든 경우의 수를 구하는 프로그램을 작성"
   ]
  },
  {
   "cell_type": "code",
   "execution_count": 2,
   "id": "1ad8c913",
   "metadata": {},
   "outputs": [],
   "source": [
    "# 1을 입력하면 다음은 3이 하나라도 포함되어 있으므로 세어야 하는 시각입니다.\n",
    "# - 00시 00분 03초\n",
    "# - 00시 13분 30초"
   ]
  },
  {
   "cell_type": "code",
   "execution_count": 3,
   "id": "44139d0e",
   "metadata": {},
   "outputs": [],
   "source": [
    "# 반면 다음은 3이 하나도 포함되어 있지 않으므로 세면 안되는 시각입니다.\n",
    "# - 00시 02분 55초\n",
    "# - 01시 27분 45초"
   ]
  },
  {
   "cell_type": "code",
   "execution_count": 4,
   "id": "eef33844",
   "metadata": {},
   "outputs": [],
   "source": [
    "# IDEA\n",
    "# 가능한 모든 시각의 경우를 하나씩 모두 세서 풀 수 있다\n",
    "# 하루는 86,400초 이므로 0시부터 23시 59분 59초까지 모든 경우의 수는 86,400 가지이다.\n",
    "# 24 * 60 * 60 = 86,400\n",
    "# 단순히 1씩 증가시키면서 3이 하나라도 포함되는지를 확인한다\n",
    "# 완전 탐색 문제 (Brute Forcing) 유형"
   ]
  },
  {
   "cell_type": "code",
   "execution_count": 5,
   "id": "f66b2446",
   "metadata": {},
   "outputs": [
    {
     "name": "stdout",
     "output_type": "stream",
     "text": [
      "1\n",
      "3150\n"
     ]
    }
   ],
   "source": [
    "h = int(input())\n",
    "\n",
    "count = 0\n",
    "for i in range(h+1):\n",
    "    for j in range(60):\n",
    "        for k in range(60):\n",
    "            #매 시각 안에 '3'이 포함되어 있으면 카운트 증가\n",
    "            if '3' in str(i) + str(j) + str(k):\n",
    "                count += 1\n",
    "                \n",
    "print(count)"
   ]
  },
  {
   "cell_type": "code",
   "execution_count": null,
   "id": "5afb4966",
   "metadata": {},
   "outputs": [],
   "source": []
  }
 ],
 "metadata": {
  "kernelspec": {
   "display_name": "Python 3 (ipykernel)",
   "language": "python",
   "name": "python3"
  },
  "language_info": {
   "codemirror_mode": {
    "name": "ipython",
    "version": 3
   },
   "file_extension": ".py",
   "mimetype": "text/x-python",
   "name": "python",
   "nbconvert_exporter": "python",
   "pygments_lexer": "ipython3",
   "version": "3.8.10"
  }
 },
 "nbformat": 4,
 "nbformat_minor": 5
}
