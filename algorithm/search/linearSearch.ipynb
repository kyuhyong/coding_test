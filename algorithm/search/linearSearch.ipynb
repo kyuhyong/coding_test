{
 "cells": [
  {
   "cell_type": "code",
   "execution_count": 1,
   "id": "0a4de984",
   "metadata": {},
   "outputs": [
    {
     "name": "stdout",
     "output_type": "stream",
     "text": [
      "3\n"
     ]
    }
   ],
   "source": [
    "#linear search\n",
    "\n",
    "n=5\n",
    "S=[1,2,3,4,5]\n",
    "q=3\n",
    "T=[3,4,5]\n",
    "\n",
    "def solution(n, S, q, T):\n",
    "    count = 0\n",
    "    for i in range(n):\n",
    "        for m in T:\n",
    "            if S[i] == m:\n",
    "                count+=1\n",
    "    return count\n",
    "\n",
    "print(solution(n,S,q,T))"
   ]
  },
  {
   "cell_type": "code",
   "execution_count": 4,
   "id": "2cb8a59d",
   "metadata": {},
   "outputs": [
    {
     "name": "stdout",
     "output_type": "stream",
     "text": [
      "3\n"
     ]
    }
   ],
   "source": [
    "#binary search\n",
    "n=5\n",
    "S=[1,2,3,4,5]\n",
    "q=3\n",
    "T=[3,4,5]\n",
    "\n",
    "def solution(n, S, q, T):\n",
    "    count = 0\n",
    "    for key in T:\n",
    "        left = 0\n",
    "        right = n\n",
    "        while (left<right):\n",
    "            mid = (left + right)//2\n",
    "            if S[mid] == key:\n",
    "                count+=1\n",
    "                break\n",
    "            if key > S[mid]:\n",
    "                left = mid + 1 #Search tail\n",
    "            elif key<S[mid]:\n",
    "                right = mid    #Search head\n",
    "    return count\n",
    "\n",
    "print(solution(n,S,q,T))"
   ]
  },
  {
   "cell_type": "code",
   "execution_count": null,
   "id": "54ce1460",
   "metadata": {},
   "outputs": [],
   "source": []
  }
 ],
 "metadata": {
  "kernelspec": {
   "display_name": "Python 3 (ipykernel)",
   "language": "python",
   "name": "python3"
  },
  "language_info": {
   "codemirror_mode": {
    "name": "ipython",
    "version": 3
   },
   "file_extension": ".py",
   "mimetype": "text/x-python",
   "name": "python",
   "nbconvert_exporter": "python",
   "pygments_lexer": "ipython3",
   "version": "3.8.10"
  }
 },
 "nbformat": 4,
 "nbformat_minor": 5
}
