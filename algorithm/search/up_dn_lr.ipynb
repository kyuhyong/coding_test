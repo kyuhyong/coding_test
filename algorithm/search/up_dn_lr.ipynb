{
 "cells": [
  {
   "cell_type": "code",
   "execution_count": 1,
   "id": "af30d366",
   "metadata": {},
   "outputs": [],
   "source": [
    "# 여행가 A는 N x N 크기의 정사각형 공간 위에 서 있다.\n",
    "# 이 공간은 1x1 크기의 정사각형으로 나누어져 있다.\n",
    "# 가장 왼쪽 위는 (1,1)이며 가장 오른쪽 아래는 (N,N)에 해당한다.\n",
    "# 여행가 A는 상/하/좌/우 방향으로 이동할 수 있으며, 시작 좌표는 항상 (1,1)이다.\n",
    "# 여행가 A가 이동할 계획이 적힌 계획서가 놓여있다.\n",
    "# 계획서에는 하나의 줄에 띄어쓰기를 기준으로 L, R, U, D중 하나의 문자가 반복적으로\n",
    "# 적혀있다. 각 문자의 의미는 다음과 같다.\n",
    "# - L, R, U, D 각각 왼쪽, 오른쪽, 위, 아래 방향으로 1칸씩 이동"
   ]
  },
  {
   "cell_type": "code",
   "execution_count": 2,
   "id": "81212d64",
   "metadata": {},
   "outputs": [],
   "source": [
    "# 입력 조건1: 첮쨰 줄에 공간의 크기 N (1<= N <= 100)\n",
    "# 입력 조건2: 둘째 줄에 A의 이동 계획 (1 <= 이동 횟수 <= 100)\n",
    "# 출력 조건: 여행가 A가 최종 도착한 지점의 좌표(x,y)를 공백 기준으로 구분하여 출력\n",
    "\n",
    "# 입력 예: \n",
    "# N = 5\n",
    "# R R R U D D\n",
    "# 출력 예: \n",
    "# 3 4"
   ]
  },
  {
   "cell_type": "code",
   "execution_count": 3,
   "id": "64e14eaf",
   "metadata": {},
   "outputs": [],
   "source": [
    "# 시뮬레이션 유형\n",
    "# 구현이 중요한 대표 문제 유형\n",
    "# 예외 처리"
   ]
  },
  {
   "cell_type": "code",
   "execution_count": 4,
   "id": "b830ab03",
   "metadata": {},
   "outputs": [
    {
     "name": "stdout",
     "output_type": "stream",
     "text": [
      "5\n",
      "R R R U D D\n",
      "3 4\n"
     ]
    }
   ],
   "source": [
    "n = int(input())\n",
    "x, y = 1, 1\n",
    "plans = input().split()\n",
    "\n",
    "# L, R, U, D에 따른 이동 방향\n",
    "dx = [0, 0, -1, 1]\n",
    "dy = [-1, 1, 0, 0]\n",
    "move_types = ['L', 'R', 'U', 'D']\n",
    "\n",
    "#이동 계획을 하나씩확인\n",
    "for plan in plans:\n",
    "    #이동 후 좌표 구하기\n",
    "    for i in range(len(move_types)):\n",
    "        if plan == move_types[i]:\n",
    "            nx = x + dx[i]\n",
    "            ny = y + dy[i]\n",
    "    # 공간을 벗어나면 무시\n",
    "    if nx < 1 or ny < 1 or nx > n or ny > n:\n",
    "        continue\n",
    "    # 이동 수행\n",
    "    x, y = nx, ny\n",
    "print(x, y)"
   ]
  },
  {
   "cell_type": "code",
   "execution_count": null,
   "id": "6d9ad1e1",
   "metadata": {},
   "outputs": [],
   "source": []
  }
 ],
 "metadata": {
  "kernelspec": {
   "display_name": "Python 3 (ipykernel)",
   "language": "python",
   "name": "python3"
  },
  "language_info": {
   "codemirror_mode": {
    "name": "ipython",
    "version": 3
   },
   "file_extension": ".py",
   "mimetype": "text/x-python",
   "name": "python",
   "nbconvert_exporter": "python",
   "pygments_lexer": "ipython3",
   "version": "3.8.10"
  }
 },
 "nbformat": 4,
 "nbformat_minor": 5
}
