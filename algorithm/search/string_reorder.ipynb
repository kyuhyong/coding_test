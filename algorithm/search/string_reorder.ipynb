{
 "cells": [
  {
   "cell_type": "code",
   "execution_count": 1,
   "id": "cd134c4d",
   "metadata": {},
   "outputs": [],
   "source": [
    "# 알파벳 대문자와 숫자(0~9)로만 구성된 문자열이 입력으로 주어진다.\n",
    "# 이때 모든 알파벳을 오름차순으로 정렬하여 이어서 출력한 뒤에,\n",
    "# 그 뒤에 모든 숫자를 더한 값을 이어서 출력한다."
   ]
  },
  {
   "cell_type": "code",
   "execution_count": 2,
   "id": "2c1776cf",
   "metadata": {},
   "outputs": [],
   "source": [
    "# 예를들어 K1KA5CB7 이라는 값이 들어오면 ABCKK13을 출력한다."
   ]
  },
  {
   "cell_type": "code",
   "execution_count": 3,
   "id": "a8b8f723",
   "metadata": {},
   "outputs": [],
   "source": [
    "# 입력조건1: 첫째 줄에 하나의 문자열 S가 주어진다 (1<= S의 길이 <= 10,000)\n",
    "# 출력조건: 첮째 줄에 문제에서 요구하는 정답을 출력.\n",
    "# 입력 예1: K1KA5CB7\n",
    "# 출력 예1: ABCKK13\n",
    "# 입력 예2: AJKDLSI412K4JSJ9D\n",
    "# 출력 예2: ADDIJJJKKLSS20"
   ]
  },
  {
   "cell_type": "code",
   "execution_count": 4,
   "id": "90cd8658",
   "metadata": {},
   "outputs": [],
   "source": [
    "# IDEA\n",
    "# 문자열이 입려될때 문자를 하나씩 확인한다\n",
    "# - 숫자인 경우 따로 합계를 계산한다.\n",
    "# - 알파벳은 별도의 리스트에 저장한다.\n",
    "# 결과적으로 리스트에 저장된 알파벳을 정렬하여 출력하고, 합계를 뒤에 붙여 출력한다."
   ]
  },
  {
   "cell_type": "code",
   "execution_count": 11,
   "id": "2076c15c",
   "metadata": {},
   "outputs": [
    {
     "name": "stdout",
     "output_type": "stream",
     "text": [
      "AJKDLSI412K4JSJ9D\n",
      "ADDIJJJKKLSS20\n",
      "ADDIJJJKKLSS20"
     ]
    }
   ],
   "source": [
    "data = input()\n",
    "result = []\n",
    "value = 0\n",
    "\n",
    "# 문자를 하나씩 확인\n",
    "for x in data:\n",
    "    # 알파벳이면 리스트에 삽입\n",
    "    if x.isalpha():\n",
    "        result.append(x)\n",
    "    # 숫자는 더함\n",
    "    else:\n",
    "        value += int(x)\n",
    "# 알파벳을 오름차순으로 정렬\n",
    "result.sort()\n",
    "\n",
    "# 숫자가 하나라도 있으면 가장 뒤에 삽입\n",
    "if value != 0:\n",
    "    result.append(str(value))\n",
    "# 최종 출력 (리스트를 문자열로 변환하여 출력)\n",
    "print(''.join(result))\n",
    "# 또는 이렇게 하면 됨\n",
    "for x in result:\n",
    "    print(x, end=\"\")"
   ]
  },
  {
   "cell_type": "code",
   "execution_count": null,
   "id": "bc808a2a",
   "metadata": {},
   "outputs": [],
   "source": []
  }
 ],
 "metadata": {
  "kernelspec": {
   "display_name": "Python 3 (ipykernel)",
   "language": "python",
   "name": "python3"
  },
  "language_info": {
   "codemirror_mode": {
    "name": "ipython",
    "version": 3
   },
   "file_extension": ".py",
   "mimetype": "text/x-python",
   "name": "python",
   "nbconvert_exporter": "python",
   "pygments_lexer": "ipython3",
   "version": "3.8.10"
  }
 },
 "nbformat": 4,
 "nbformat_minor": 5
}
