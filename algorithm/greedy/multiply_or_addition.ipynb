{
 "cells": [
  {
   "cell_type": "code",
   "execution_count": 1,
   "id": "d5835522",
   "metadata": {},
   "outputs": [],
   "source": [
    "# 각 자리가 숫자(0~9)로만 이루어진 문자열 S가 주어졌을 때, \n",
    "# 왼쪽부터 오른쪽으로 하나씩 모든 숫자를 확인하여 숫자 사이에\n",
    "# 'x'또는 '+' 연산자를 넣어 결과적으로 만들 수 있는 \n",
    "# 가장 큰 수를 구하는 프로그램을 작성. 단 +보다 x를 먼저 계산하는\n",
    "# 일반적인 방식과 달리, 모든 연산은 왼쪽부터 순서대로 이루어진다."
   ]
  },
  {
   "cell_type": "code",
   "execution_count": 2,
   "id": "cf725834",
   "metadata": {},
   "outputs": [],
   "source": [
    "# 예를들어 02984라는 문자열로 만들 수 있는 가장 큰 수는 \n",
    "# (((0+2)x9)x8)x4 = 576 입니다."
   ]
  },
  {
   "cell_type": "code",
   "execution_count": 3,
   "id": "2746c775",
   "metadata": {},
   "outputs": [
    {
     "name": "stdout",
     "output_type": "stream",
     "text": [
      "02984\n",
      "576\n"
     ]
    }
   ],
   "source": [
    "data = input()\n",
    "\n",
    "#첫번째 문자를 숫자로 변경하여 대입\n",
    "result = int(data[0])\n",
    "\n",
    "for i in range(1, len(data)):\n",
    "    # 두 수 중 하나라도 '0' 또는 '1'인 경우, 덧셈을 수행\n",
    "    num = int(data[i])\n",
    "    if num <= 1 or result <= 1:\n",
    "        result += num\n",
    "    else:\n",
    "        result *= num\n",
    "        \n",
    "print(result)"
   ]
  },
  {
   "cell_type": "code",
   "execution_count": null,
   "id": "89702433",
   "metadata": {},
   "outputs": [],
   "source": []
  }
 ],
 "metadata": {
  "kernelspec": {
   "display_name": "Python 3 (ipykernel)",
   "language": "python",
   "name": "python3"
  },
  "language_info": {
   "codemirror_mode": {
    "name": "ipython",
    "version": 3
   },
   "file_extension": ".py",
   "mimetype": "text/x-python",
   "name": "python",
   "nbconvert_exporter": "python",
   "pygments_lexer": "ipython3",
   "version": "3.8.10"
  }
 },
 "nbformat": 4,
 "nbformat_minor": 5
}
