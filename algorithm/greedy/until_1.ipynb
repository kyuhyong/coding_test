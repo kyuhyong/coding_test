{
 "cells": [
  {
   "cell_type": "code",
   "execution_count": 2,
   "id": "7c4bd090",
   "metadata": {},
   "outputs": [],
   "source": [
    "# N이 1이 될 때까지 다음 두 과정중 하나를 반복적으로 선택하여 수행한다. \n",
    "# 단 두번째 연산은 N이 K로 나누어질 때만 선택할 수 있다.\n",
    "# 1. N 에서 1을 뺀다.\n",
    "# 2. N을 K로 나눈다.\n",
    "# 예를들어 N = 17, K = 4 인 경우 1번의 과정을 한번 수행하면 N은 16이 되고\n",
    "# 이후에 2번의 과정을 수행하면 N은 1이 된다. 결과적으로 전체 실행 횟수는 3이된다. \n",
    "# 이것은 N을 1로 만드는 최소 횟수이다.\n",
    "# N과 K가 주어질때 N이 1이 될 때까지 1번 혹으느 2번을 수행하는 최소 최소 횟수를 구하라."
   ]
  },
  {
   "cell_type": "code",
   "execution_count": 3,
   "id": "6ba84179",
   "metadata": {},
   "outputs": [],
   "source": [
    "#입력 예 : 25 5\n",
    "#출력 예 : 2"
   ]
  },
  {
   "cell_type": "code",
   "execution_count": 16,
   "id": "2ece2d01",
   "metadata": {},
   "outputs": [
    {
     "name": "stdout",
     "output_type": "stream",
     "text": [
      "26 4\n",
      "n= 6  result= 3\n",
      "n= 1  result= 6\n",
      "6\n"
     ]
    }
   ],
   "source": [
    "n, k = map(int, input().split())\n",
    "result = 0\n",
    "while True:\n",
    "    # N이 K로 나누어 떨어지는 수가 될 때까지만 1씩 빼기\n",
    "    target = (n // k) * k\n",
    "    result += (n - target) #나누어 떨어지면 0, 그렇지 않으면 1씩 더해짐\n",
    "    n = target\n",
    "    # N이 K보다 작을 때 (더이상 나눌 수 없을 때) 탈출\n",
    "    if n < k:\n",
    "        break\n",
    "    # K 로 나누기\n",
    "    result += 1 # 1회 연산 횟수가 추가됨\n",
    "    n //= k     # 다음번 n 계산을 위해 k로 나눔\n",
    "    print(\"n=\",n, \" result=\", result)\n",
    "#마지막으로 남은 수에 대하여 1씩 빼기\n",
    "result += (n - 1)\n",
    "print(result)"
   ]
  },
  {
   "cell_type": "code",
   "execution_count": 17,
   "id": "7e058591",
   "metadata": {},
   "outputs": [
    {
     "name": "stdout",
     "output_type": "stream",
     "text": [
      "26 4\n",
      "n= 25  result= 1\n",
      "n= 24  result= 2\n",
      "n= 6  result= 3\n",
      "n= 5  result= 4\n",
      "n= 4  result= 5\n",
      "n= 1  result= 6\n",
      "6\n"
     ]
    }
   ],
   "source": [
    "n, k = map(int, input().split())\n",
    "result = 0\n",
    "while n!=1:\n",
    "    temp = (n // k) * k\n",
    "    # n이 k로 나누어 떨어지면\n",
    "    if temp == n:\n",
    "        n = n//k\n",
    "    else:\n",
    "        # 그렇지 않으면 \n",
    "        n -=1\n",
    "    result += 1\n",
    "    print(\"n=\",n, \" result=\", result)\n",
    "\n",
    "print(result)"
   ]
  },
  {
   "cell_type": "code",
   "execution_count": null,
   "id": "97828c26",
   "metadata": {},
   "outputs": [],
   "source": []
  }
 ],
 "metadata": {
  "kernelspec": {
   "display_name": "Python 3 (ipykernel)",
   "language": "python",
   "name": "python3"
  },
  "language_info": {
   "codemirror_mode": {
    "name": "ipython",
    "version": 3
   },
   "file_extension": ".py",
   "mimetype": "text/x-python",
   "name": "python",
   "nbconvert_exporter": "python",
   "pygments_lexer": "ipython3",
   "version": "3.8.10"
  }
 },
 "nbformat": 4,
 "nbformat_minor": 5
}
