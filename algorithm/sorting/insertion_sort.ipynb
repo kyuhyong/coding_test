{
 "cells": [
  {
   "cell_type": "code",
   "execution_count": 1,
   "id": "31533ac2",
   "metadata": {},
   "outputs": [],
   "source": [
    "# 삽입정렬\n",
    "# 처리되지 않은 데이터를 하나씩 골라 적절한 위치에 삽입 한다.\n",
    "# 구현 난이도가 선택정렬에 비해 높지만 더 효율적으로 동작한다.\n",
    "# 예 7, 5, 9, 0, 3, 1, 6, 2, 4, 8\n",
    "# Step1: 먼저 7, 5를 비교해서 \n",
    "#   5, 7, 9, 0, 3, 1, 6, 2, 4, 8\n",
    "# Step2: 7, 9를 비교\n",
    "#   5, 7, 9, 0, 3, 1, 6, 2, 4, 8\n",
    "# Step3: 9, 0을 비교\n",
    "#   0, 5, 7, 9, 3, 1, 6, 2, 4, 8"
   ]
  },
  {
   "cell_type": "code",
   "execution_count": 2,
   "id": "368fcc11",
   "metadata": {},
   "outputs": [
    {
     "name": "stdout",
     "output_type": "stream",
     "text": [
      "[0, 1, 2, 3, 4, 5, 6, 7, 8, 9]\n"
     ]
    }
   ],
   "source": [
    "array = [7, 5, 9, 0, 3, 1, 6, 2, 4, 8]\n",
    "\n",
    "for i in range(1, len(array)):\n",
    "    for j in range(i, 0, -1): # 인덱스 i부터 1까지 1씩 감소하며 반복\n",
    "        if array[j-1] > array[j]: # 하나씩 왼쪽으로 이동\n",
    "            array[j], array[j-1] = array[j-1], array[j]\n",
    "        else:  # 자기보다 작은 데이터를 만나면 거기서 멈춤\n",
    "            break\n",
    "print(array)"
   ]
  },
  {
   "cell_type": "code",
   "execution_count": null,
   "id": "b36f61b0",
   "metadata": {},
   "outputs": [],
   "source": [
    "# 삽입정렬의 시간 복잡도\n",
    "# 시간 복잡도는 O(N^2)이며 반복문이 두번 중첩되어 사용된다.\n",
    "# 현재 리스트의 데이터가 거의 정렬되어 있는 상태라면 매우 빠르게 동작한다.\n",
    "# 최전의 경우 O(N)의 시간 복잡도를 가진다.\n",
    "# 이미 정렬되어 있는 상태에서 다시 삽입 정렬을 수행하면?\n",
    "# [0, 1, 2, 3, 4, 5, 6, 7, 8, 9]"
   ]
  }
 ],
 "metadata": {
  "kernelspec": {
   "display_name": "Python 3 (ipykernel)",
   "language": "python",
   "name": "python3"
  },
  "language_info": {
   "codemirror_mode": {
    "name": "ipython",
    "version": 3
   },
   "file_extension": ".py",
   "mimetype": "text/x-python",
   "name": "python",
   "nbconvert_exporter": "python",
   "pygments_lexer": "ipython3",
   "version": "3.8.10"
  }
 },
 "nbformat": 4,
 "nbformat_minor": 5
}
