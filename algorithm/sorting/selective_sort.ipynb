{
 "cells": [
  {
   "cell_type": "code",
   "execution_count": null,
   "id": "cc1c1c93",
   "metadata": {},
   "outputs": [],
   "source": [
    "# 선택 정렬의 시간 복잡도\n",
    "# N 번 만큼 가장 작으느 수를 찾아서 맨 앞으로 보내야 한다\n",
    "# 전체 연산 횟수는 다음과 같다\n",
    "# N + (N-1) + (N-2) + ... + 2\n",
    "# 즉 (N^2 + N - 2)/2 또는 O(N^2) 이라고 한다."
   ]
  },
  {
   "cell_type": "code",
   "execution_count": 1,
   "id": "4a9198a4",
   "metadata": {},
   "outputs": [
    {
     "name": "stdout",
     "output_type": "stream",
     "text": [
      "[0, 1, 2, 3, 4, 5, 6, 7, 8, 9]\n"
     ]
    }
   ],
   "source": [
    "array = [7, 5, 9, 0, 3, 1, 6, 2, 4, 8]\n",
    "# 첫번째 원소부터 수행\n",
    "for i in range(len(array)):\n",
    "    min_idx = i # 가장 작은 원소의 인덱스\n",
    "    for j in range(i+1, len(array)):\n",
    "        if array[min_idx] > array[j]:\n",
    "            min_idx = j\n",
    "    # 찾은 가장 작은 원소 인덱스와 맞바꿈\n",
    "    array[i], array[min_idx] = array[min_idx], array[i]\n",
    "print(array)"
   ]
  }
 ],
 "metadata": {
  "kernelspec": {
   "display_name": "Python 3 (ipykernel)",
   "language": "python",
   "name": "python3"
  },
  "language_info": {
   "codemirror_mode": {
    "name": "ipython",
    "version": 3
   },
   "file_extension": ".py",
   "mimetype": "text/x-python",
   "name": "python",
   "nbconvert_exporter": "python",
   "pygments_lexer": "ipython3",
   "version": "3.8.10"
  }
 },
 "nbformat": 4,
 "nbformat_minor": 5
}
