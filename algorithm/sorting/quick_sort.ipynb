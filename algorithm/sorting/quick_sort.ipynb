{
 "cells": [
  {
   "cell_type": "code",
   "execution_count": 1,
   "id": "831968bf",
   "metadata": {},
   "outputs": [],
   "source": [
    "# 기준 데이터를 정하고 그 기준보다 큰 데이터와 작으느 데이터의 위치를 바꾼다\n",
    "# 일반적인 경우 가장 많이 사용되는 정렬 알고리즘\n",
    "# 병합 정렬과 더불어 대부분 프로그래밍 언어의 정렬 라이브러리의 근간이 됨\n",
    "# 가장 기본적인 퀵 정렬은 첫번째 데이터를 기준 데이터(Pivot)으로 설정한다."
   ]
  },
  {
   "cell_type": "code",
   "execution_count": 2,
   "id": "1bde60a9",
   "metadata": {},
   "outputs": [],
   "source": [
    "# 예: [5, 7, 9, 0, 3, 1, 6, 2, 4, 8]\n",
    "# Step 0: 현재 피벗 값은 '5'. \n",
    "#         왼쪽부터 '5'보다 큰 데이터를 선택하므로 '7'이 선택\n",
    "#         오른쪽부터 '5'보다 작은 데이터를 선택하므로 '4'가 선택\n",
    "#         이제 서로 변경한다.\n",
    "# [5, *7*, 9, 0, 3, 1, 6, 2, **4**, 8]\n",
    "# [5, 4, 9, 0, 3, 1, 6, 2, 7, 8]"
   ]
  },
  {
   "cell_type": "code",
   "execution_count": 3,
   "id": "283c117e",
   "metadata": {},
   "outputs": [],
   "source": [
    "# Step 1: 현재 피벗 값은 '5'\n",
    "#         왼쪽부터 '5'보다 큰 데이터를 선택하므로 '9'이 선택\n",
    "#         오른쪽부터 '5'보다 작은 데이터를 선택하므로 '2'가 선택\n",
    "#         이제 서로 변경한다.\n",
    "# [5, 4, *9*, 0, 3, 1, 6, **2**, 7, 8]\n",
    "# [5, 4, 2, 0, 3, 1, 6, 9, 7, 8]"
   ]
  },
  {
   "cell_type": "code",
   "execution_count": 4,
   "id": "1d463020",
   "metadata": {},
   "outputs": [],
   "source": [
    "# Step 2: 현재 피벗 값은 '5'\n",
    "#         왼쪽부터 '5'보다 큰 데이터를 선택하므로 '6이 선택\n",
    "#         오른쪽부터 '5'보다 작은 데이터를 선택하므로 '2'가 선택\n",
    "#         이처럼 위치가 엇갈리는 경우 '피벗'과 '작은 데이터'의 위치를 서로 변경한다.\n",
    "# [5, 4, 2, 0, 3, **1**, *6*, 9, 7, 8]\n",
    "# [{1, 4, 2, 0, 3}, 5, {6, 9, 7, 8}]\n",
    "# 분할 완료: 이제 '5'의 왼쪽에 있는 데이터는 모두 '5'보다 작고, \n",
    "#          오른쪽에 있는 데이터는 데이터는 모두 '5'보다 크다.\n",
    "#          이렇게 피벗을 기준으로 데이터 묶음을 나누는 작업을 *분할*이라고 한다."
   ]
  },
  {
   "cell_type": "code",
   "execution_count": 5,
   "id": "11154959",
   "metadata": {},
   "outputs": [],
   "source": [
    "# Step 3: [왼쪽 데이터 묶음 정렬] 왼쪽에 있는 데이터에 대해서 마찬가지로 정렬을 수행\n",
    "# [1, *4*, 2, **0**, 3]\n",
    "# [1, 0, 2, 4, 3]\n",
    "#         [오른쪽 데이터 묶음 정렬] 오른쪽에 있는 데이터에 대해서 정렬을 수행\n",
    "#                  [6, **9**, 7, 8]"
   ]
  },
  {
   "cell_type": "code",
   "execution_count": 6,
   "id": "069919a8",
   "metadata": {},
   "outputs": [],
   "source": [
    "# 퀵 정렬이 빠른 이유:\n",
    "# 이상적인 경우 분할이 절반씩 일어난다면 전체 연산 횟수로 O(N logN) 을 기대\n",
    "# 너비 X 높이 = N x logN = N logN\n",
    "# 최악의 경우 O(N^2)의 시간 복잡도를 가진다.\n",
    "## 첫번째 원소를 피벗으로 삼을 때, 이미 정렬된 배열에 대해 퀵정렬을 수행하면?\n",
    "# 예: [0, 1, 2, 3, 4, 5, 6, 7, 8, 9]"
   ]
  },
  {
   "cell_type": "code",
   "execution_count": 8,
   "id": "777eb2af",
   "metadata": {},
   "outputs": [
    {
     "name": "stdout",
     "output_type": "stream",
     "text": [
      "[0, 1, 2, 3, 4, 5, 6, 7, 8, 9]\n"
     ]
    }
   ],
   "source": [
    "array = [7, 5, 9, 0, 3, 1, 6, 2, 4, 8]\n",
    "\n",
    "def quick_sort(array, start, end):\n",
    "    if start >= end: # 원소가 1개인 경우 종료\n",
    "        return\n",
    "    pivot = start # 피벗은 첫번째 원소\n",
    "    left = start + 1\n",
    "    right = end\n",
    "    while(left <= right):\n",
    "        # 피벗보다 큰 데이터를 찾을 때 까지 반복\n",
    "        while(left <= end and array[left] <= array[pivot]):\n",
    "            left += 1\n",
    "        # 피벗보다 작은 데이터를 찾을 때 까지 반복\n",
    "        while(right > start and array[right] >= array[pivot]):\n",
    "            right -= 1\n",
    "        if(left > right): # 서로 엇갈리는 경우 데이터와 피벗을 교체\n",
    "            array[right], array[pivot] = array[pivot], array[right]\n",
    "        else:  # 엇갈리지 않으면 작은 데이터와 큰 데이터를 교체\n",
    "            array[left], array[right] = array[right], array[left]\n",
    "    # 분할 이후 왼쪽 부분과 오른쪽 부분에 대해 각각 정렬 수행\n",
    "    quick_sort(array, start,   right-1)\n",
    "    quick_sort(array, right+1, end)\n",
    "\n",
    "quick_sort(array, 0, len(array)-1)\n",
    "print(array)"
   ]
  },
  {
   "cell_type": "code",
   "execution_count": 10,
   "id": "0e05da74",
   "metadata": {},
   "outputs": [
    {
     "name": "stdout",
     "output_type": "stream",
     "text": [
      "[0, 1, 2, 3, 4, 5, 6, 7, 8, 9]\n"
     ]
    }
   ],
   "source": [
    "# Python advantage\n",
    "array = [5, 7, 9, 0, 3, 1, 6, 2, 4, 8]\n",
    "\n",
    "def quick_sort(array):\n",
    "    # 리스트가 하나 이하의 원소만 있으면 종료\n",
    "    if len(array) <= 1:\n",
    "        return array\n",
    "    pivot = array[0] # 피벗은 첫번째 원소\n",
    "    tail = array[1:] # 피벗을 제외한 리스트\n",
    "    left_arr = [x for x in tail if x<= pivot] # 분할된 왼쪽 부분\n",
    "    right_arr = [x for x in tail if x> pivot] # 분할된 오른쪽 부분\n",
    "    \n",
    "    # 분할 이후 왼쪽과 오른쪽 부분에서 각각 정렬 수행하고 전체 리스트를 반환\n",
    "    return quick_sort(left_arr) + [pivot] + quick_sort(right_arr)\n",
    "\n",
    "print(quick_sort(array))"
   ]
  },
  {
   "cell_type": "code",
   "execution_count": null,
   "id": "c6da0f5d",
   "metadata": {},
   "outputs": [],
   "source": []
  }
 ],
 "metadata": {
  "kernelspec": {
   "display_name": "Python 3 (ipykernel)",
   "language": "python",
   "name": "python3"
  },
  "language_info": {
   "codemirror_mode": {
    "name": "ipython",
    "version": 3
   },
   "file_extension": ".py",
   "mimetype": "text/x-python",
   "name": "python",
   "nbconvert_exporter": "python",
   "pygments_lexer": "ipython3",
   "version": "3.8.10"
  }
 },
 "nbformat": 4,
 "nbformat_minor": 5
}
