{
 "cells": [
  {
   "cell_type": "code",
   "execution_count": 1,
   "id": "fabdfc2c",
   "metadata": {},
   "outputs": [],
   "source": [
    "# 반복적으로 사용되는 함수\n",
    "# 함수를 사용하면 코드 길이를 줄일 수 있다.\n",
    "# - 매개변수: 함수 내에서 사용할 변수\n",
    "# - 반환 값: 함수에서 처리된 결과를 반환\n",
    "# def 함수명(매개변수):\n",
    "#     실행할 코드\n",
    "#     return 반환 값 (없어도 무방)"
   ]
  },
  {
   "cell_type": "code",
   "execution_count": 2,
   "id": "da206b22",
   "metadata": {},
   "outputs": [],
   "source": [
    "# 파라미터 지정할 수 있음\n",
    "# - 매개변수의 순서가 달라도 상관 없음"
   ]
  },
  {
   "cell_type": "code",
   "execution_count": 3,
   "id": "e19dc31d",
   "metadata": {},
   "outputs": [
    {
     "name": "stdout",
     "output_type": "stream",
     "text": [
      "함수의 결과: 10\n"
     ]
    }
   ],
   "source": [
    "def add(a, b):\n",
    "    print('함수의 결과:', a+b)\n",
    "\n",
    "add(b=3, a=7)"
   ]
  },
  {
   "cell_type": "code",
   "execution_count": 4,
   "id": "9cca7997",
   "metadata": {},
   "outputs": [],
   "source": [
    "# 전역 변수의 선언\n",
    "# global 키워드로 변수를 지정하면 바깥에 선언된 변수를 바로 참조한다"
   ]
  },
  {
   "cell_type": "code",
   "execution_count": 5,
   "id": "33f880a8",
   "metadata": {},
   "outputs": [
    {
     "name": "stdout",
     "output_type": "stream",
     "text": [
      "10\n"
     ]
    }
   ],
   "source": [
    "a = 0\n",
    "def func():\n",
    "    global a\n",
    "    a+= 1\n",
    "\n",
    "for i in range(10):\n",
    "    func()\n",
    "\n",
    "print(a)"
   ]
  },
  {
   "cell_type": "code",
   "execution_count": 6,
   "id": "e5fc9789",
   "metadata": {},
   "outputs": [],
   "source": [
    "# 여러개의 반화나 값을 가질 수 있음"
   ]
  },
  {
   "cell_type": "code",
   "execution_count": 9,
   "id": "98d79039",
   "metadata": {},
   "outputs": [
    {
     "name": "stdout",
     "output_type": "stream",
     "text": [
      "10 4 21 2.33\n"
     ]
    }
   ],
   "source": [
    "def operator(a, b):\n",
    "    add_var = a+b\n",
    "    sub_var = a-b\n",
    "    mul_var = a*b\n",
    "    div_var = round(a/b, 2)\n",
    "    return add_var, sub_var, mul_var, div_var\n",
    "\n",
    "a, b, c, d = operator(7,3)\n",
    "print(a, b, c, d)"
   ]
  },
  {
   "cell_type": "code",
   "execution_count": 10,
   "id": "b61629ad",
   "metadata": {},
   "outputs": [],
   "source": [
    "# 람다 표현식을 이용하면 함수를 간단하게 작성 가능\n",
    "# - 특정 기능을 수행하는 함수를 한줄에 작성할 수 있음"
   ]
  },
  {
   "cell_type": "code",
   "execution_count": 11,
   "id": "b9fb1b60",
   "metadata": {},
   "outputs": [
    {
     "name": "stdout",
     "output_type": "stream",
     "text": [
      "10\n",
      "10\n"
     ]
    }
   ],
   "source": [
    "def add(a, b):\n",
    "    return a + b\n",
    "\n",
    "# 함수형\n",
    "print(add(3,7))\n",
    "\n",
    "# 람다 표현식으로 구현한 add() 메서드\n",
    "print((lambda a, b: a+b)(3,7))"
   ]
  },
  {
   "cell_type": "code",
   "execution_count": 14,
   "id": "186e9996",
   "metadata": {},
   "outputs": [
    {
     "name": "stdout",
     "output_type": "stream",
     "text": [
      "[('수학', 25), ('영어', 70), ('국어', 90)]\n",
      "[('수학', 25), ('영어', 70), ('국어', 90)]\n"
     ]
    }
   ],
   "source": [
    "# 내장 함수에서 자주 사용되는 람다 함수\n",
    "array = [('국어', 90), ('영어', 70), ('수학', 25)]\n",
    "\n",
    "\n",
    "def my_key(x):\n",
    "    return x[1]\n",
    "\n",
    "# 키 속성으로 정렬 기준을 제시 (점수 기준으로 오름차순 정렬)\n",
    "print(sorted(array, key = my_key))\n",
    "\n",
    "# 한번 쓰고 마는 경우에 lambda를 활용\n",
    "print(sorted(array, key = lambda x: x[1]))"
   ]
  },
  {
   "cell_type": "code",
   "execution_count": null,
   "id": "dad5dc81",
   "metadata": {},
   "outputs": [],
   "source": []
  }
 ],
 "metadata": {
  "kernelspec": {
   "display_name": "Python 3 (ipykernel)",
   "language": "python",
   "name": "python3"
  },
  "language_info": {
   "codemirror_mode": {
    "name": "ipython",
    "version": 3
   },
   "file_extension": ".py",
   "mimetype": "text/x-python",
   "name": "python",
   "nbconvert_exporter": "python",
   "pygments_lexer": "ipython3",
   "version": "3.8.10"
  }
 },
 "nbformat": 4,
 "nbformat_minor": 5
}
