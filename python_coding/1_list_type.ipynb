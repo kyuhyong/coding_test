{
 "cells": [
  {
   "cell_type": "code",
   "execution_count": null,
   "id": "d28f2d53",
   "metadata": {},
   "outputs": [],
   "source": [
    "# 리스트 자료형\n",
    "# 여러개의 데이터를 연속적으로 담아 처리하기 위해 사용\n",
    "# - C++의 STL vector와 기능적으로 유사\n",
    "# - 리스트 대신 배열 혹으느 테이블이라고도 부름\n",
    "# 리스트는 대괄호([])안에 원소를 넣어 초기화 하며 쉼표(,)로 원소를 구분\n",
    "# 리스트의 원소는 인덱스(index) 값을 괄호에 넣어서 접근한다\n",
    "# - 인덱스는 0부터 시작\n",
    "# 비어있는 리스트를 선언할때는 list() 또는 간단히 []를 이용"
   ]
  },
  {
   "cell_type": "code",
   "execution_count": 26,
   "id": "1227379c",
   "metadata": {},
   "outputs": [
    {
     "name": "stdout",
     "output_type": "stream",
     "text": [
      "[1, 2, 3, 4, 5, 6, 7, 8, 9]\n",
      "[0, 0, 0, 0, 0, 0, 0, 0, 0, 0]\n"
     ]
    }
   ],
   "source": [
    "# 직접 데이터를 넣어서 초기화\n",
    "a = [1, 2, 3, 4, 5, 6, 7, 8, 9]\n",
    "print(a)\n",
    "\n",
    "# 크기가 n이고 모든 값이 0인 1차원 리스트 초기화\n",
    "n=10\n",
    "a=[0]*n\n",
    "print(a)"
   ]
  },
  {
   "cell_type": "code",
   "execution_count": 27,
   "id": "03ae3417",
   "metadata": {},
   "outputs": [],
   "source": [
    "# 인덱싱\n",
    "# 인덱스 값을 입력하여 리스트의 특정 원소에 접근하는 것을 인덱싱이라고 한다\n",
    "# - 양의 정수 또는 음의 정수를 모두 사용할 수 있음\n",
    "# - 음의 정수를 넣으면 원소를 거꾸로 탐색한다"
   ]
  },
  {
   "cell_type": "code",
   "execution_count": 31,
   "id": "a3ff95cb",
   "metadata": {},
   "outputs": [
    {
     "name": "stdout",
     "output_type": "stream",
     "text": [
      "9\n",
      "7\n",
      "[1, 2, 3, 7, 5, 6, 7, 8, 9]\n"
     ]
    }
   ],
   "source": [
    "a = [1, 2, 3, 4, 5, 6, 7, 8, 9]\n",
    "# 뒤에서 첫번째 원소 출력\n",
    "print(a[-1])\n",
    "\n",
    "# 뒤에서 세번째 원소 출력\n",
    "print(a[-3])\n",
    "\n",
    "# 네번째 원소의 값을 변경\n",
    "a[3] = 7\n",
    "print(a)"
   ]
  },
  {
   "cell_type": "code",
   "execution_count": 32,
   "id": "d919fd5f",
   "metadata": {},
   "outputs": [],
   "source": [
    "# 슬라이싱\n",
    "# 리스트에서 연속적인 위치를 갖는 원소들을 가져와야 할 때는 슬라이싱을 이용한다\n",
    "# - 대괄호 안에 콜론(:)을 넣어서 시작 인덱스와 끝 인덱스를 설정\n",
    "# - 끝 인덱스는 실제 인덱스보다 1을 더 크게 설정한다\n"
   ]
  },
  {
   "cell_type": "code",
   "execution_count": 33,
   "id": "b8f09d97",
   "metadata": {},
   "outputs": [
    {
     "name": "stdout",
     "output_type": "stream",
     "text": [
      "[2, 3, 4]\n"
     ]
    }
   ],
   "source": [
    "a = [1, 2, 3, 4, 5, 6, 7, 8, 9]\n",
    "# 두번째 원소부터 네번째 원소까지\n",
    "print(a[1: 4])\n"
   ]
  },
  {
   "cell_type": "code",
   "execution_count": 2,
   "id": "e97dcd74",
   "metadata": {},
   "outputs": [
    {
     "name": "stdout",
     "output_type": "stream",
     "text": [
      "[1, 3, 5, 7, 9, 11, 13, 15, 17, 19]\n"
     ]
    }
   ],
   "source": [
    "# 0부터 19까지의 수 중에서 홀수만 포함하는 리스트\n",
    "array = [i for i in range(20) if i%2 == 1]\n",
    "print(array)"
   ]
  },
  {
   "cell_type": "code",
   "execution_count": 3,
   "id": "40c79c70",
   "metadata": {},
   "outputs": [
    {
     "name": "stdout",
     "output_type": "stream",
     "text": [
      "[1, 4, 9, 16, 25, 36, 49, 64, 81]\n"
     ]
    }
   ],
   "source": [
    "# 1부터 9까지의 수들의 제곱 값을 포함하는 리스트\n",
    "array = [i * i for i in range(1, 10)]\n",
    "print(array)"
   ]
  },
  {
   "cell_type": "code",
   "execution_count": 4,
   "id": "33fb7e06",
   "metadata": {},
   "outputs": [
    {
     "name": "stdout",
     "output_type": "stream",
     "text": [
      "[1, 3, 5, 7, 9, 11, 13, 15, 17, 19]\n"
     ]
    }
   ],
   "source": [
    "a=[]\n",
    "for i in range(20):\n",
    "    if i%2==1:\n",
    "        a.append(i)\n",
    "print(a)"
   ]
  },
  {
   "cell_type": "code",
   "execution_count": 8,
   "id": "2b20540d",
   "metadata": {},
   "outputs": [
    {
     "name": "stdout",
     "output_type": "stream",
     "text": [
      "[[0, 0, 0], [0, 0, 0], [0, 0, 0], [0, 0, 0]]\n",
      "[[0, 0, 0], [0, 5, 0], [0, 0, 0], [0, 0, 0]]\n"
     ]
    }
   ],
   "source": [
    "# N x M 크기의 2차원 리스트 초기화\n",
    "n = 4\n",
    "m = 3\n",
    "array = [[0] * m for _ in range(n)]\n",
    "print(array)\n",
    "array[1][1] = 5\n",
    "print(array)"
   ]
  },
  {
   "cell_type": "code",
   "execution_count": 7,
   "id": "c1efca38",
   "metadata": {},
   "outputs": [
    {
     "name": "stdout",
     "output_type": "stream",
     "text": [
      "[[0, 0, 0], [0, 0, 0], [0, 0, 0], [0, 0, 0]]\n",
      "[[0, 5, 0], [0, 5, 0], [0, 5, 0], [0, 5, 0]]\n"
     ]
    }
   ],
   "source": [
    "# 잘못된 방법 - 리스트 안에 포함된 리스트가 모두 같은 객체로 인식된다.\n",
    "n = 4\n",
    "m = 3\n",
    "array = [[0] * m] * n\n",
    "print(array)\n",
    "array[1][1] = 5\n",
    "print(array)"
   ]
  },
  {
   "cell_type": "code",
   "execution_count": 9,
   "id": "0b555278",
   "metadata": {},
   "outputs": [],
   "source": [
    "# 리스트 관련 메서드                                   복잡도\n",
    "# append(): 변수명.append() - 리스트에 원소를 하나 삽입,     O(1)\n",
    "# sort():   변수명.sort() - 기본 정렬 기능으로 오름차순 정렬, O(N logN)\n",
    "#           변수명.sort(reverse=True) - 내림차순 정렬,    O(N logN)\n",
    "# reverse(): 변수명.reverse() - 리스트의 원소 순서를 모두 뒤집어 놓는다. O(N)\n",
    "# insert(): insert(삽입할 위치 인덱스, 삽입할 값) - 특정 인덱스에 원소를 삽입한다. O(N)\n",
    "# count(): 변수명.count(값) - 리스트에 특정한 값을 가진 데이터의 개수를 센다. O(N)\n",
    "# remove(): 변수명.remove(값) - 리스트에 특정 값을 가진 원소를 제거하는데, \n",
    "#                             값을 가진 원소가 여러개면 하나만 제거한다. O(N)"
   ]
  },
  {
   "cell_type": "code",
   "execution_count": 13,
   "id": "4184a4df",
   "metadata": {},
   "outputs": [
    {
     "name": "stdout",
     "output_type": "stream",
     "text": [
      "기본 리스트:\t [1, 4, 3]\n",
      "2 삽입:\t\t [1, 4, 3, 2]\n",
      "오름차순 정렬:\t [1, 2, 3, 4]\n",
      "내림차순 정렬:\t [4, 3, 2, 1]\n",
      "원소 뒤집기:\t [1, 2, 3, 4]\n",
      "인덱스 2에 3을 추가: [1, 2, 3, 3, 4]\n",
      "값이 3인 데이터 개수: 2\n",
      "값이 1인 데이터 삭제: [2, 3, 3, 4]\n"
     ]
    }
   ],
   "source": [
    "a = [1, 4, 3]\n",
    "print(\"기본 리스트:\\t\",a)\n",
    "\n",
    "a.append(2)\n",
    "print(\"2 삽입:\\t\\t\", a)\n",
    "\n",
    "a.sort()\n",
    "print(\"오름차순 정렬:\\t\", a)\n",
    "\n",
    "a.sort(reverse = True)\n",
    "print(\"내림차순 정렬:\\t\", a)\n",
    "\n",
    "a.reverse()\n",
    "print(\"원소 뒤집기:\\t\", a)\n",
    "\n",
    "a.insert(2, 3)\n",
    "print(\"인덱스 2에 3을 추가:\", a)\n",
    "\n",
    "print(\"값이 3인 데이터 개수:\", a.count(3))\n",
    "\n",
    "a.remove(1)\n",
    "print(\"값이 1인 데이터 삭제:\", a)"
   ]
  },
  {
   "cell_type": "code",
   "execution_count": 20,
   "id": "821737e5",
   "metadata": {},
   "outputs": [
    {
     "name": "stdout",
     "output_type": "stream",
     "text": [
      "    a.sort():\t [3, 4, 5, 9, 10]\n",
      "\tb:\t [5, 4, 3, 9, 10]\n",
      "sorted result:\t [3, 4, 5, 9, 10]\n"
     ]
    }
   ],
   "source": [
    "a = [5, 4, 3, 9, 10]\n",
    "a.sort()\n",
    "print(\"    a.sort():\\t\",a)\n",
    "\n",
    "b = [5, 4, 3, 9, 10]\n",
    "# 내장함수 sorted는 원본을 보관\n",
    "result = sorted(b)\n",
    "print(\"\\tb:\\t\",b)\n",
    "print(\"sorted result:\\t\",result)"
   ]
  },
  {
   "cell_type": "code",
   "execution_count": 25,
   "id": "b62e4c8f",
   "metadata": {},
   "outputs": [
    {
     "name": "stdout",
     "output_type": "stream",
     "text": [
      "[5, 2, 6, 8, 4]\n",
      "[5, 2, 6, 8]\n",
      "[1, 2, 4]\n"
     ]
    }
   ],
   "source": [
    "# 리스트에서 특정 값을 제거\n",
    "a = [5, 2, 4, 6, 8, 4]\n",
    "# 4가 한개만 지워짐\n",
    "a.remove(4)\n",
    "print(a)\n",
    "\n",
    "# 리스트에서 특정 값을 모두 제거\n",
    "b = [5, 2, 4, 6, 8, 4]\n",
    "b = [i for i in b if i != 4]\n",
    "print(b)\n",
    "\n",
    "# 리스트에서 특정 값의 원소를 모두 제거하기\n",
    "a = [1, 2, 3, 4, 5, 5, 5]\n",
    "remove_set = {3, 5}\n",
    "\n",
    "# remove_list에 포함되지 않은 값만 저장\n",
    "result = [i for i in  a if i not in remove_set]\n",
    "print(result)"
   ]
  },
  {
   "cell_type": "code",
   "execution_count": null,
   "id": "2c98b470",
   "metadata": {},
   "outputs": [],
   "source": []
  }
 ],
 "metadata": {
  "kernelspec": {
   "display_name": "Python 3 (ipykernel)",
   "language": "python",
   "name": "python3"
  },
  "language_info": {
   "codemirror_mode": {
    "name": "ipython",
    "version": 3
   },
   "file_extension": ".py",
   "mimetype": "text/x-python",
   "name": "python",
   "nbconvert_exporter": "python",
   "pygments_lexer": "ipython3",
   "version": "3.8.10"
  }
 },
 "nbformat": 4,
 "nbformat_minor": 5
}
