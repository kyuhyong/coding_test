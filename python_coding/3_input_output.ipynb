{
 "cells": [
  {
   "cell_type": "code",
   "execution_count": 1,
   "id": "ef55d99c",
   "metadata": {},
   "outputs": [],
   "source": [
    "# 모든 프로그램은 약속된 입출력 양식을 갖는다\n",
    "# 데이터를 입력받거나 생성한다\n",
    "# 학생의 성적 데이터가 주어지고, 이를 내림차순으로 정렬한 결과를 출력하는 프로그램의 입출력 예시\n",
    "# 입력 예1: 5\n",
    "# 입력 예2: 65 90 75 34 99\n",
    "# 출력 예: 99 90 75 65 34\n"
   ]
  },
  {
   "cell_type": "code",
   "execution_count": 2,
   "id": "4852e22a",
   "metadata": {},
   "outputs": [],
   "source": [
    "# 표준 입력 방법\n",
    "# input() 한 줄의 문자열을 입력받는다\n",
    "# Map() 리스트의 모든 원소에 각각 특정한 함수를 적용할 때\n",
    "# - 예) 공백을 기준으로 구분된 데이터를 입력 받을 때 다음과 같이 사용\n",
    "#       list(map(int, input().split()))\n",
    "# - 예) 공백을 기준으로 구분된 데이터가 많지 않으면 단순히 다음과 같이 사용\n",
    "#       a,b,c = map(int, input().split())"
   ]
  },
  {
   "cell_type": "code",
   "execution_count": 3,
   "id": "b993439d",
   "metadata": {},
   "outputs": [
    {
     "name": "stdout",
     "output_type": "stream",
     "text": [
      "5\n",
      "65 90 75 34 99\n",
      "5\n",
      "[65, 90, 75, 34, 99]\n"
     ]
    }
   ],
   "source": [
    "# 데이터의 개수 입력\n",
    "n = int(input())\n",
    "# 각 데이터를 공백을 기준으로 구분하여 입력\n",
    "data = list(map(int, input().split()))\n",
    "\n",
    "print(n)\n",
    "print(data)"
   ]
  },
  {
   "cell_type": "code",
   "execution_count": 5,
   "id": "d4d58440",
   "metadata": {},
   "outputs": [
    {
     "name": "stdout",
     "output_type": "stream",
     "text": [
      "1 2 3 4 5\n",
      "[1, 2, 3, 4, 5]\n",
      "1 2 3 4 5\n",
      "1 2 3 4 5\n"
     ]
    }
   ],
   "source": [
    "# 입력: 1 2 3 4 5\n",
    "# 가장 많이 쓰임\n",
    "a = list(map(int, input().split()))\n",
    "print(a)\n",
    "\n",
    "# 공백으로 각각의 값을 입력\n",
    "a, b, c, d, e = map(int, input().split())\n",
    "print(a, b, c, d, e)"
   ]
  },
  {
   "cell_type": "code",
   "execution_count": 6,
   "id": "138d133d",
   "metadata": {},
   "outputs": [
    {
     "ename": "SyntaxError",
     "evalue": "invalid syntax (3672300861.py, line 1)",
     "output_type": "error",
     "traceback": [
      "\u001b[0;36m  Input \u001b[0;32mIn [6]\u001b[0;36m\u001b[0m\n\u001b[0;31m    ```\u001b[0m\n\u001b[0m    ^\u001b[0m\n\u001b[0;31mSyntaxError\u001b[0m\u001b[0;31m:\u001b[0m invalid syntax\n"
     ]
    }
   ],
   "source": [
    "```\n",
    "3\n",
    "4\n",
    "0 0 0 0 \n",
    "0 0 0 0\n",
    "0 0 0 0\n",
    "```\n",
    "n = int(input())\n",
    "m = int(input())\n",
    "\n",
    "arr = []\n",
    "for i in range(n):\n",
    "    arr.append(list(map(int, input().split())))"
   ]
  },
  {
   "cell_type": "code",
   "execution_count": 7,
   "id": "c856c203",
   "metadata": {},
   "outputs": [],
   "source": [
    "# 빠르게 입력받기 위해서\n",
    "# sys 라이브러리에 정의되어 있는 sys.stdin.readline() 메서드를 사용\n",
    "# - 단, 입력후 엔터(Enter)가 줄바꿈 기호로 입력되므로 rstrip() 메서드를 함께 사용\n"
   ]
  },
  {
   "cell_type": "code",
   "execution_count": 9,
   "id": "77f088eb",
   "metadata": {},
   "outputs": [
    {
     "name": "stdout",
     "output_type": "stream",
     "text": [
      "\n"
     ]
    }
   ],
   "source": [
    "import sys\n",
    "# 문자열 입력받기\n",
    "data = sys.stdin.readline().rstrip()\n",
    "print(data)"
   ]
  },
  {
   "cell_type": "code",
   "execution_count": 11,
   "id": "89a97ef0",
   "metadata": {},
   "outputs": [
    {
     "name": "stdout",
     "output_type": "stream",
     "text": [
      "8\n",
      "10\n",
      "8 10\n"
     ]
    }
   ],
   "source": [
    "print(8)\n",
    "print(10)\n",
    "print(8, end=' ')\n",
    "print(10)"
   ]
  },
  {
   "cell_type": "code",
   "execution_count": 13,
   "id": "318b9560",
   "metadata": {},
   "outputs": [
    {
     "name": "stdout",
     "output_type": "stream",
     "text": [
      "1 2\n",
      "7 8 정답은 7 입니다.\n"
     ]
    }
   ],
   "source": [
    "# 출력 변수들\n",
    "a = 1\n",
    "b = 2\n",
    "print(a, b)\n",
    "print(7, end=' ')\n",
    "print(8, end=' ')\n",
    "\n",
    "# 출력할 변수\n",
    "answer = 7\n",
    "print('정답은 ' + str(answer) + ' 입니다.')"
   ]
  },
  {
   "cell_type": "code",
   "execution_count": null,
   "id": "4e74700e",
   "metadata": {},
   "outputs": [],
   "source": []
  }
 ],
 "metadata": {
  "kernelspec": {
   "display_name": "Python 3 (ipykernel)",
   "language": "python",
   "name": "python3"
  },
  "language_info": {
   "codemirror_mode": {
    "name": "ipython",
    "version": 3
   },
   "file_extension": ".py",
   "mimetype": "text/x-python",
   "name": "python",
   "nbconvert_exporter": "python",
   "pygments_lexer": "ipython3",
   "version": "3.8.10"
  }
 },
 "nbformat": 4,
 "nbformat_minor": 5
}
