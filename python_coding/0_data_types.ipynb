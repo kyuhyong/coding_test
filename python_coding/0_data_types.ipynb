{
 "cells": [
  {
   "cell_type": "code",
   "execution_count": 1,
   "id": "210f7645",
   "metadata": {},
   "outputs": [],
   "source": [
    "# 파이썬의 자료형은 정수형, 실수형, 복소수형, 문자열, 리스트, 튜플, 사전 등이 있음"
   ]
  },
  {
   "cell_type": "code",
   "execution_count": 2,
   "id": "8eb1db32",
   "metadata": {},
   "outputs": [],
   "source": [
    "# 정수형은 정수를 다룸\n",
    "# - 양의 정수, 음의 정수, 0이 포함\n",
    "# 코테에서는 주로 정수형을 다룸"
   ]
  },
  {
   "cell_type": "code",
   "execution_count": 3,
   "id": "c7d13007",
   "metadata": {},
   "outputs": [],
   "source": [
    "# 실수형은 소수점 아래 데이터를 포함하는 수 자료형\n",
    "# - 변수에 소수점을 붙이면 실수형 변수로 처리\n",
    "# - 소수부가 0이거나, 정수부가 0인 실수는 0을 생략할 수 있음"
   ]
  },
  {
   "cell_type": "code",
   "execution_count": 5,
   "id": "7c56ee20",
   "metadata": {},
   "outputs": [
    {
     "name": "stdout",
     "output_type": "stream",
     "text": [
      "1000.0\n",
      "-7.5\n",
      "-0.7\n"
     ]
    }
   ],
   "source": [
    "a = 1000.\n",
    "print(a)\n",
    "a = -7.5\n",
    "print(a)\n",
    "a = -.7\n",
    "print(a)"
   ]
  },
  {
   "cell_type": "code",
   "execution_count": 7,
   "id": "e42dd126",
   "metadata": {},
   "outputs": [],
   "source": [
    "# 지수 표현방식\n",
    "# - e 나 E 다음에 오는 수는 10의 지수에 해당\n",
    "# 1e9 는 10의 9제곱 수\n",
    "# 주로 큰 수를 표현하기 위해 사용\n",
    "# 최단 경로 알고리즘에서는 도달 불가능한 노드에 대해 최단 거리를 무한(INF)로 설정하는데\n",
    "# 이때 최대값이 10억 미만이면 무한(INF) 값을 1e9으로 이용"
   ]
  },
  {
   "cell_type": "code",
   "execution_count": 8,
   "id": "5ed9b96c",
   "metadata": {},
   "outputs": [
    {
     "name": "stdout",
     "output_type": "stream",
     "text": [
      "1000000000.0\n"
     ]
    }
   ],
   "source": [
    "INF = 1e9\n",
    "print(INF)"
   ]
  },
  {
   "cell_type": "code",
   "execution_count": 9,
   "id": "08b72a0b",
   "metadata": {},
   "outputs": [],
   "source": [
    "# 실수형 표현\n",
    "# 실수형 정보를 표현하는 정확도의 한계\n",
    "# - 10진수 체계에서 0.3 + 0.6은 0.9로 정확히 떨어지지만\n",
    "# - 2진수 체계를 사용하면 0.9를 정확하게 표현할 수 없음\n",
    "# - 컴퓨터는 최대한 0.9에 가깝게 표현하지만 오차가 발생"
   ]
  },
  {
   "cell_type": "code",
   "execution_count": 10,
   "id": "95e4e51f",
   "metadata": {},
   "outputs": [
    {
     "name": "stdout",
     "output_type": "stream",
     "text": [
      "0.8999999999999999\n"
     ]
    }
   ],
   "source": [
    "a=0.3\n",
    "b=0.6\n",
    "print(a+b)"
   ]
  },
  {
   "cell_type": "code",
   "execution_count": 11,
   "id": "1f7b5b4d",
   "metadata": {},
   "outputs": [
    {
     "name": "stdout",
     "output_type": "stream",
     "text": [
      "0.9\n"
     ]
    }
   ],
   "source": [
    "# round()함수를 사용하여 소수점을 반올림\n",
    "a=0.3\n",
    "b=0.6\n",
    "print(round(a+b, 2))"
   ]
  },
  {
   "cell_type": "code",
   "execution_count": 12,
   "id": "0d74c969",
   "metadata": {},
   "outputs": [],
   "source": [
    "# 자료형의 연산\n",
    "# 나누기 연산자(/)를 주의해서 사용할 것\n",
    "# - 파이썬의 나누기 연산자(/)는 나눠진 결과를 실수형으로 반환\n",
    "# 다양한 로직을 설계할 때 나머지 연산자(%)를 사용하는 경우가 많음\n",
    "# - 값이 홀수인지 체크 하는 경우\n",
    "# 파이썬에서 몫을 얻기 위해서는 몫 연산자(//)를 사용\n",
    "# 이 외에 거듭제곱 연산자(**) 등이 있음"
   ]
  },
  {
   "cell_type": "code",
   "execution_count": 13,
   "id": "d578b1cf",
   "metadata": {},
   "outputs": [
    {
     "name": "stdout",
     "output_type": "stream",
     "text": [
      "2.3333333333333335\n",
      "1\n",
      "2\n"
     ]
    }
   ],
   "source": [
    "a=7\n",
    "b=3\n",
    "\n",
    "#나누기\n",
    "print(a/b)\n",
    "\n",
    "#나머지\n",
    "print(a%b)\n",
    "\n",
    "# 몫\n",
    "print(a//b)"
   ]
  },
  {
   "cell_type": "code",
   "execution_count": null,
   "id": "8663cecb",
   "metadata": {},
   "outputs": [],
   "source": []
  }
 ],
 "metadata": {
  "kernelspec": {
   "display_name": "Python 3 (ipykernel)",
   "language": "python",
   "name": "python3"
  },
  "language_info": {
   "codemirror_mode": {
    "name": "ipython",
    "version": 3
   },
   "file_extension": ".py",
   "mimetype": "text/x-python",
   "name": "python",
   "nbconvert_exporter": "python",
   "pygments_lexer": "ipython3",
   "version": "3.8.10"
  }
 },
 "nbformat": 4,
 "nbformat_minor": 5
}
