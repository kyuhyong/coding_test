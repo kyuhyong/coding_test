{
 "cells": [
  {
   "cell_type": "code",
   "execution_count": 1,
   "id": "3198cfee",
   "metadata": {},
   "outputs": [],
   "source": [
    "# while 또는 for 문이 있음\n",
    "# - 코딩테스트에서 for 문이 더 간결함\n",
    "# 무한루프\n",
    "# - 코딩테스트에서 무한 루프 구현은 거의 없음"
   ]
  },
  {
   "cell_type": "code",
   "execution_count": 2,
   "id": "ed210617",
   "metadata": {},
   "outputs": [
    {
     "name": "stdout",
     "output_type": "stream",
     "text": [
      "45\n"
     ]
    }
   ],
   "source": [
    "# 1~9까지 정수 합\n",
    "i = 1\n",
    "result = 0\n",
    "\n",
    "while i<=9:\n",
    "    result += i\n",
    "    i += 1\n",
    "\n",
    "print(result)"
   ]
  },
  {
   "cell_type": "code",
   "execution_count": 3,
   "id": "16d8209f",
   "metadata": {},
   "outputs": [
    {
     "name": "stdout",
     "output_type": "stream",
     "text": [
      "25\n"
     ]
    }
   ],
   "source": [
    "# 1~9까지 홀수 합\n",
    "i = 1\n",
    "result = 0\n",
    "\n",
    "while i<=9:\n",
    "    if i%2 == 1:\n",
    "        result += i\n",
    "    i += 1\n",
    "\n",
    "print(result)"
   ]
  },
  {
   "cell_type": "code",
   "execution_count": 4,
   "id": "d595cbab",
   "metadata": {},
   "outputs": [],
   "source": [
    "# for 문\n",
    "# 특정 변수를 이용하여 'in' 뒤에 오는 자료형(리스트, 튜플 등)에 포함되어 있는\n",
    "# 원소를 첫번째 인덱스 부터 차례대로 하나씩 방문\n",
    "# for in 리스트:\n",
    "#    실행할 코드"
   ]
  },
  {
   "cell_type": "code",
   "execution_count": 5,
   "id": "a46e64b4",
   "metadata": {},
   "outputs": [],
   "source": [
    "# for 문에서 수를 차례로 나열할 때에는 range()를 주로 사용\n",
    "# - 이때 range(시작 값, 끝 값) 형태로 사용\n",
    "# - 인자를 하나만 넣으면 자동으로 시작 값은 0이 됨"
   ]
  },
  {
   "cell_type": "code",
   "execution_count": 10,
   "id": "8f1a1253",
   "metadata": {},
   "outputs": [
    {
     "name": "stdout",
     "output_type": "stream",
     "text": [
      "45\n",
      "45\n",
      "2500\n"
     ]
    }
   ],
   "source": [
    "result = 0\n",
    "for i in range(1, 10):\n",
    "    result += i\n",
    "\n",
    "print(result)\n",
    "\n",
    "result = 0\n",
    "for i in range(10):\n",
    "    result += i\n",
    "\n",
    "print(result)\n",
    "\n",
    "result = 0\n",
    "# 1에서 100까지 2씩 띄워서 더하는 경우\n",
    "for i in range(1, 100, 2):\n",
    "    result += i\n",
    "\n",
    "print(result)"
   ]
  },
  {
   "cell_type": "code",
   "execution_count": 11,
   "id": "7c1b44d6",
   "metadata": {},
   "outputs": [
    {
     "name": "stdout",
     "output_type": "stream",
     "text": [
      "1  bigger than 80\n",
      "5  bigger than 80\n"
     ]
    }
   ],
   "source": [
    "# 특정 index의 리스트는 제외하기\n",
    "data = [90, 85, 77, 65, 97]\n",
    "ex = {2, 4}\n",
    "for i in range(5):\n",
    "    if i+1 in ex:\n",
    "        continue\n",
    "    if data[i] >= 80:\n",
    "        print(i+1, \" bigger than 80\")"
   ]
  },
  {
   "cell_type": "code",
   "execution_count": 12,
   "id": "8ebb9b8b",
   "metadata": {},
   "outputs": [
    {
     "name": "stdout",
     "output_type": "stream",
     "text": [
      "2  x  1  =  2\n",
      "2  x  2  =  4\n",
      "2  x  3  =  6\n",
      "2  x  4  =  8\n",
      "2  x  5  =  10\n",
      "2  x  6  =  12\n",
      "2  x  7  =  14\n",
      "2  x  8  =  16\n",
      "2  x  9  =  18\n",
      "\n",
      "3  x  1  =  3\n",
      "3  x  2  =  6\n",
      "3  x  3  =  9\n",
      "3  x  4  =  12\n",
      "3  x  5  =  15\n",
      "3  x  6  =  18\n",
      "3  x  7  =  21\n",
      "3  x  8  =  24\n",
      "3  x  9  =  27\n",
      "\n",
      "4  x  1  =  4\n",
      "4  x  2  =  8\n",
      "4  x  3  =  12\n",
      "4  x  4  =  16\n",
      "4  x  5  =  20\n",
      "4  x  6  =  24\n",
      "4  x  7  =  28\n",
      "4  x  8  =  32\n",
      "4  x  9  =  36\n",
      "\n",
      "5  x  1  =  5\n",
      "5  x  2  =  10\n",
      "5  x  3  =  15\n",
      "5  x  4  =  20\n",
      "5  x  5  =  25\n",
      "5  x  6  =  30\n",
      "5  x  7  =  35\n",
      "5  x  8  =  40\n",
      "5  x  9  =  45\n",
      "\n",
      "6  x  1  =  6\n",
      "6  x  2  =  12\n",
      "6  x  3  =  18\n",
      "6  x  4  =  24\n",
      "6  x  5  =  30\n",
      "6  x  6  =  36\n",
      "6  x  7  =  42\n",
      "6  x  8  =  48\n",
      "6  x  9  =  54\n",
      "\n",
      "7  x  1  =  7\n",
      "7  x  2  =  14\n",
      "7  x  3  =  21\n",
      "7  x  4  =  28\n",
      "7  x  5  =  35\n",
      "7  x  6  =  42\n",
      "7  x  7  =  49\n",
      "7  x  8  =  56\n",
      "7  x  9  =  63\n",
      "\n",
      "8  x  1  =  8\n",
      "8  x  2  =  16\n",
      "8  x  3  =  24\n",
      "8  x  4  =  32\n",
      "8  x  5  =  40\n",
      "8  x  6  =  48\n",
      "8  x  7  =  56\n",
      "8  x  8  =  64\n",
      "8  x  9  =  72\n",
      "\n",
      "9  x  1  =  9\n",
      "9  x  2  =  18\n",
      "9  x  3  =  27\n",
      "9  x  4  =  36\n",
      "9  x  5  =  45\n",
      "9  x  6  =  54\n",
      "9  x  7  =  63\n",
      "9  x  8  =  72\n",
      "9  x  9  =  81\n",
      "\n"
     ]
    }
   ],
   "source": [
    "# 중첩된 반복문: 구구단\n",
    "for i in range(2, 10):\n",
    "    for j in range (1, 10):\n",
    "        print(i, \" x \", j, \" = \", i*j)\n",
    "    print()"
   ]
  },
  {
   "cell_type": "code",
   "execution_count": null,
   "id": "98177591",
   "metadata": {},
   "outputs": [],
   "source": []
  }
 ],
 "metadata": {
  "kernelspec": {
   "display_name": "Python 3 (ipykernel)",
   "language": "python",
   "name": "python3"
  },
  "language_info": {
   "codemirror_mode": {
    "name": "ipython",
    "version": 3
   },
   "file_extension": ".py",
   "mimetype": "text/x-python",
   "name": "python",
   "nbconvert_exporter": "python",
   "pygments_lexer": "ipython3",
   "version": "3.8.10"
  }
 },
 "nbformat": 4,
 "nbformat_minor": 5
}
