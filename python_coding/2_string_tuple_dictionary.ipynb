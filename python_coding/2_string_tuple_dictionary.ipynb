{
 "cells": [
  {
   "cell_type": "code",
   "execution_count": 1,
   "id": "cf081f77",
   "metadata": {},
   "outputs": [],
   "source": [
    "# 문자열 변수를 초기화 할때는 큰따옴표(\")나 작은 따옴표(')를 이용\n",
    "# 문자열 안에 큰따옴표나 작은따옴표가 포함되어야 하는 경우\n",
    "# - 전체 문자열을 큰따옴표로 구성하는 경우, 내부적으로 작은따옴표를 포함할 수 있다.\n",
    "# - 전체 문자열을 작은따옴표로 구성하는 경우, 내부적으로 큰따옴표를 포함할 수 있다.\n",
    "# - 또는 백슬래시(\\)를 사용하면, 큰따옴표나 작은따옴표를 원하는 만큼 포함할 수 있다."
   ]
  },
  {
   "cell_type": "code",
   "execution_count": 2,
   "id": "7300a2e5",
   "metadata": {},
   "outputs": [
    {
     "name": "stdout",
     "output_type": "stream",
     "text": [
      "Hello World\n",
      "Don't you know \"Python\"?\n"
     ]
    }
   ],
   "source": [
    "data = 'Hello World'\n",
    "print(data)\n",
    "\n",
    "data = \"Don't you know \\\"Python\\\"?\"\n",
    "print(data)"
   ]
  },
  {
   "cell_type": "code",
   "execution_count": 3,
   "id": "d08d4fa4",
   "metadata": {},
   "outputs": [],
   "source": [
    "# 문자열 변수에 덧셈(+)을 이용하면 문자열이 더해짐(Concatenate)\n",
    "# 문자열 변수를 특정한 양의 정수와 곱하는 경우, 문자열이 그 값만큼 여러번 더해진다.\n",
    "# 파이썬은 문자열을 내부적으로 튜플과 유사하게 처리한다.\n",
    "# - 문자열에 대해서도 마찬가지로 인덱싱과 슬라이싱을 이용할 수 있다."
   ]
  },
  {
   "cell_type": "code",
   "execution_count": 6,
   "id": "d6c8df43",
   "metadata": {},
   "outputs": [
    {
     "name": "stdout",
     "output_type": "stream",
     "text": [
      "Hello World\n",
      "StringStringString\n",
      "CD\n"
     ]
    }
   ],
   "source": [
    "a = \"Hello\"\n",
    "b = \"World\"\n",
    "print(a+\" \"+b)\n",
    "\n",
    "a = \"String\"\n",
    "print(a*3)\n",
    "\n",
    "a = \"ABCDEF\"\n",
    "print(a[2 : 4])"
   ]
  },
  {
   "cell_type": "code",
   "execution_count": 7,
   "id": "1b5c69c9",
   "metadata": {},
   "outputs": [],
   "source": [
    "# 튜플 자료형은 리스트와 유사하지만 다음과 같은 문법적 차이가 있음\n",
    "# - 튜플은 한번 선언된 값을 변경할 수 없다\n",
    "# - 리스트는 대괄호([])를 이요하지만, 튜플은 소괄호(())를 이용한다.\n",
    "# 튜플은 리스트에 비해 상대적으로 공간 효율적이다."
   ]
  },
  {
   "cell_type": "code",
   "execution_count": 10,
   "id": "a47f2525",
   "metadata": {},
   "outputs": [
    {
     "name": "stdout",
     "output_type": "stream",
     "text": [
      "(1, 2, 3, 4)\n"
     ]
    },
    {
     "ename": "TypeError",
     "evalue": "'tuple' object does not support item assignment",
     "output_type": "error",
     "traceback": [
      "\u001b[0;31m---------------------------------------------------------------------------\u001b[0m",
      "\u001b[0;31mTypeError\u001b[0m                                 Traceback (most recent call last)",
      "Input \u001b[0;32mIn [10]\u001b[0m, in \u001b[0;36m<cell line: 4>\u001b[0;34m()\u001b[0m\n\u001b[1;32m      2\u001b[0m a \u001b[38;5;241m=\u001b[39m (\u001b[38;5;241m1\u001b[39m, \u001b[38;5;241m2\u001b[39m, \u001b[38;5;241m3\u001b[39m, \u001b[38;5;241m4\u001b[39m)\n\u001b[1;32m      3\u001b[0m \u001b[38;5;28mprint\u001b[39m(a)\n\u001b[0;32m----> 4\u001b[0m a[\u001b[38;5;241m2\u001b[39m] \u001b[38;5;241m=\u001b[39m \u001b[38;5;241m7\u001b[39m\n",
      "\u001b[0;31mTypeError\u001b[0m: 'tuple' object does not support item assignment"
     ]
    }
   ],
   "source": [
    "# 튜플에서 오류가 발생하는 경우\n",
    "a = (1, 2, 3, 4)\n",
    "print(a)\n",
    "a[2] = 7"
   ]
  },
  {
   "cell_type": "code",
   "execution_count": 11,
   "id": "cd5bbae7",
   "metadata": {},
   "outputs": [],
   "source": [
    "# 사전 자료형은 키(Key)와 값(Value)의 쌍을 데이터로 가지는 자료형이다.\n",
    "# - 리스트나 튜플이 값을 순차적으로 저장하는 것과 대비\n",
    "# 사전 자료형은 키와 값의 쌍을 데이터로 가지며, 원하는 '변경 불가능한(Immutable) 자료형'을\n",
    "# 키로 사용할 수 있다.\n",
    "# 파이썬의 사전 자료형은 해시 테이블(Hash Table)을 이용하므로 데이터의 검색 및 수정에 있어서\n",
    "# O(1)의 시간에 처리할 수 있다."
   ]
  },
  {
   "cell_type": "code",
   "execution_count": 12,
   "id": "c38cffae",
   "metadata": {},
   "outputs": [
    {
     "name": "stdout",
     "output_type": "stream",
     "text": [
      "{'사과': 'Apple', '바나나': 'Banana', '코코너': 'Coconut'}\n",
      "'사과'를 키로 가지는 데이터가 존재합니다.\n"
     ]
    }
   ],
   "source": [
    "data = dict()\n",
    "data['사과'] = 'Apple'\n",
    "data['바나나'] = 'Banana'\n",
    "data['코코너'] = 'Coconut'\n",
    "\n",
    "print(data)\n",
    "\n",
    "if '사과' in data:\n",
    "    print(\"'사과'를 키로 가지는 데이터가 존재합니다.\")"
   ]
  },
  {
   "cell_type": "code",
   "execution_count": 13,
   "id": "ada1ceea",
   "metadata": {},
   "outputs": [],
   "source": [
    "# 사전 자료형 메서드\n",
    "# keys() : 키 데이터만 뽑아서 리스트로 이용\n",
    "# values(): 값 데이터만 뽑아서 리스트로 이용"
   ]
  },
  {
   "cell_type": "code",
   "execution_count": 20,
   "id": "46763bd4",
   "metadata": {},
   "outputs": [
    {
     "name": "stdout",
     "output_type": "stream",
     "text": [
      "{'키': '180cm', '몸무게': '70kg', '나이': '25'}\n",
      "dict_keys(['키', '몸무게', '나이'])\n",
      "dict_values(['180cm', '70kg', '25'])\n",
      "['키', '몸무게', '나이']\n",
      "['180cm', '70kg', '25']\n",
      "180cm\n",
      "70kg\n",
      "25\n"
     ]
    }
   ],
   "source": [
    "data = dict()\n",
    "data['키'] = '180cm'\n",
    "data['몸무게'] = '70kg'\n",
    "data['나이'] = '25'\n",
    "\n",
    "print(data)\n",
    "\n",
    "print(data.keys())\n",
    "print(data.values())\n",
    "\n",
    "# 키 또는 값 데이터를 담은 리스트\n",
    "print(list(data.keys()))\n",
    "print(list(data.values()))\n",
    "\n",
    "#각 키에 따른 값을 하나씩 출력\n",
    "for key in data.keys():\n",
    "    print(data[key])"
   ]
  },
  {
   "cell_type": "code",
   "execution_count": 21,
   "id": "414997fe",
   "metadata": {},
   "outputs": [],
   "source": [
    "# 집합 자료형의 특징\n",
    "# - 중복을 허용하지 않음\n",
    "# - 순서가 없음\n",
    "# 리스트나 튜플은 순서가 있으므로 인덱싱으로 자료형 값에 접근 가능\n",
    "# 사전 자료형과 집합 자료형은 순서가 없으므로 인덱싱으로 값을 얻을 수 없음\n",
    "# 집합은 리스트 혹은 문자열을 이용해서 초기화 할 수 있음\n",
    "# - set() 함수를 이용\n",
    "# 또는 중괄호({}) 안에 각 원소를 콤마(,) 기준으로 구분하여 삽입하여 초기화"
   ]
  },
  {
   "cell_type": "code",
   "execution_count": 22,
   "id": "0fa9821b",
   "metadata": {},
   "outputs": [
    {
     "name": "stdout",
     "output_type": "stream",
     "text": [
      "{1, 2, 3, 4, 5}\n",
      "{1, 2, 3, 4, 5}\n"
     ]
    }
   ],
   "source": [
    "# 집합 자료형 초기화 방법 1\n",
    "data = set([1, 1, 2, 3, 4, 4, 5])\n",
    "print(data)\n",
    "\n",
    "# 집합 자료형 초기화 방법 2\n",
    "data = {1, 1, 2, 3, 4, 4, 5}\n",
    "print(data)"
   ]
  },
  {
   "cell_type": "code",
   "execution_count": 23,
   "id": "3cda1bed",
   "metadata": {},
   "outputs": [
    {
     "name": "stdout",
     "output_type": "stream",
     "text": [
      "True\n"
     ]
    }
   ],
   "source": [
    "# 어떤 정수가 나왔는지 안나왔는지 확인\n",
    "a = {1, 2, 3}\n",
    "\n",
    "a.add(3)\n",
    "\n",
    "print (1 in a)"
   ]
  },
  {
   "cell_type": "code",
   "execution_count": 24,
   "id": "8e110133",
   "metadata": {},
   "outputs": [],
   "source": [
    "# 집합 자료형은 합집합, 교집합, 차집합 연산을 지원함\n",
    "# - 합집합: A U B\n",
    "# - 교집합: A ∩ B\n",
    "# - 차집합: A - B"
   ]
  },
  {
   "cell_type": "code",
   "execution_count": 29,
   "id": "7ffabf71",
   "metadata": {},
   "outputs": [
    {
     "name": "stdout",
     "output_type": "stream",
     "text": [
      "True\n",
      "True\n",
      "합집합: {1, 2, 3, 4, 5, 6, 7}\n",
      "교집합: {3, 4, 5}\n",
      "차집합: {1, 2}\n"
     ]
    }
   ],
   "source": [
    "a = [1, 2, 3, 3, 4, 5]\n",
    "print(3 in a) #복잡도 O(N)\n",
    "\n",
    "b = {3, 4, 5, 6, 7}\n",
    "print(3 in a) #복잡도 O(1)\n",
    "\n",
    "a = {1, 2, 3, 4, 5}\n",
    "print(\"합집합:\",a|b)\n",
    "print(\"교집합:\",a&b)\n",
    "print(\"차집합:\",a-b)\n"
   ]
  },
  {
   "cell_type": "code",
   "execution_count": 31,
   "id": "9de937e2",
   "metadata": {},
   "outputs": [
    {
     "name": "stdout",
     "output_type": "stream",
     "text": [
      "{1, 2, 3}\n",
      "원소 4 추가: {1, 2, 3, 4}\n",
      "[5,6]을 추가: {1, 2, 3, 4, 5, 6}\n",
      "3을 제거: {1, 2, 4, 5, 6}\n"
     ]
    }
   ],
   "source": [
    "# 집합 자료형 함수\n",
    "data = set([1,2,3])\n",
    "print(data)\n",
    "\n",
    "data.add(4)\n",
    "print(\"원소 4 추가:\",data)\n",
    "\n",
    "data.update([5,6])\n",
    "print(\"[5,6]을 추가:\",data)\n",
    "\n",
    "data.remove(3)\n",
    "print(\"3을 제거:\",data)"
   ]
  },
  {
   "cell_type": "code",
   "execution_count": 32,
   "id": "8c16fa5d",
   "metadata": {},
   "outputs": [
    {
     "name": "stdout",
     "output_type": "stream",
     "text": [
      "{'l', 'H', 'e', 'o'}\n"
     ]
    }
   ],
   "source": [
    "a = ['H', 'e', 'l', 'l', 'o']\n",
    "print(set(a))"
   ]
  },
  {
   "cell_type": "code",
   "execution_count": null,
   "id": "6ab73ef6",
   "metadata": {},
   "outputs": [],
   "source": []
  }
 ],
 "metadata": {
  "kernelspec": {
   "display_name": "Python 3 (ipykernel)",
   "language": "python",
   "name": "python3"
  },
  "language_info": {
   "codemirror_mode": {
    "name": "ipython",
    "version": 3
   },
   "file_extension": ".py",
   "mimetype": "text/x-python",
   "name": "python",
   "nbconvert_exporter": "python",
   "pygments_lexer": "ipython3",
   "version": "3.8.10"
  }
 },
 "nbformat": 4,
 "nbformat_minor": 5
}
