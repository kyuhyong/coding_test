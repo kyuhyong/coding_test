{
 "cells": [
  {
   "cell_type": "code",
   "execution_count": 1,
   "id": "d074789f",
   "metadata": {},
   "outputs": [],
   "source": [
    "# 프로그램의 흐름을 제어\n",
    "# 프로그램의 로직을 설정"
   ]
  },
  {
   "cell_type": "code",
   "execution_count": 2,
   "id": "0f25bc54",
   "metadata": {},
   "outputs": [
    {
     "name": "stdout",
     "output_type": "stream",
     "text": [
      "15\n"
     ]
    }
   ],
   "source": [
    "x = 15\n",
    "if x>=10:\n",
    "    print(x)"
   ]
  },
  {
   "cell_type": "code",
   "execution_count": 3,
   "id": "31544e98",
   "metadata": {},
   "outputs": [],
   "source": [
    "# 조건문 형태는 if ~ elif ~ else\n",
    "# - elif 나 else 는 사용하지 않아도 됨\n"
   ]
  },
  {
   "cell_type": "code",
   "execution_count": 4,
   "id": "f6502250",
   "metadata": {},
   "outputs": [],
   "source": [
    "# 들여쓰기\n",
    "# 탭을 사용하거나 공백문자를 여러번 사용\n",
    "# 파이썬에서는 4개의 공백 문자를 사용하는 것이 표준"
   ]
  },
  {
   "cell_type": "code",
   "execution_count": 5,
   "id": "95e28377",
   "metadata": {},
   "outputs": [],
   "source": [
    "# 비교 연산자\n",
    "# X == Y 서로 같으면 참이다\n",
    "# X != Y 서로 다르면 참이다\n",
    "# X > Y\n",
    "# X < Y\n",
    "# X >= Y\n",
    "# X <= Y"
   ]
  },
  {
   "cell_type": "code",
   "execution_count": 6,
   "id": "9d2108d9",
   "metadata": {},
   "outputs": [],
   "source": [
    "# 논리 연산자\n",
    "# X and Y: X 와 Y가 모두 참일때 참이다\n",
    "# X or Y: X 또는 Y중 하나만 참이어도 참이다\n",
    "# not X:  X가 거짓일때 참이다\n"
   ]
  },
  {
   "cell_type": "code",
   "execution_count": 7,
   "id": "a144b416",
   "metadata": {},
   "outputs": [],
   "source": [
    "# 기타 연산자\n",
    "# 여러개의 데이터를 담는 자료형을 위해 in 연산자와 not in 연산자가 제공됨\n",
    "# - 리스트, 튜플, 문자열, 딕셔너리에 모두 사용 가능\n",
    "# x in 리스트: 리스트 안에 x가 들어있으면 참이다\n",
    "# x not in 문자열: 문자열 안에 x가 들어있지 않을때 참이다."
   ]
  },
  {
   "cell_type": "code",
   "execution_count": 8,
   "id": "adce9e4f",
   "metadata": {},
   "outputs": [],
   "source": [
    "# pass 키워드\n",
    "# 조건문의 값이 참이어도 아무것도 처리하고 싶지 않을때 사용\n",
    "# 예) 일단 조건문을 만들어 놓고 조건문 처리하는 부분을 비워두는 경우"
   ]
  },
  {
   "cell_type": "code",
   "execution_count": 9,
   "id": "4c7d8509",
   "metadata": {},
   "outputs": [
    {
     "name": "stdout",
     "output_type": "stream",
     "text": [
      "end\n"
     ]
    }
   ],
   "source": [
    "score = 85\n",
    "if score >= 80:\n",
    "    pass # 나중에 추가\n",
    "else:\n",
    "    print('less than 80')\n",
    "print('end')"
   ]
  },
  {
   "cell_type": "code",
   "execution_count": null,
   "id": "3597b9a8",
   "metadata": {},
   "outputs": [],
   "source": []
  }
 ],
 "metadata": {
  "kernelspec": {
   "display_name": "Python 3 (ipykernel)",
   "language": "python",
   "name": "python3"
  },
  "language_info": {
   "codemirror_mode": {
    "name": "ipython",
    "version": 3
   },
   "file_extension": ".py",
   "mimetype": "text/x-python",
   "name": "python",
   "nbconvert_exporter": "python",
   "pygments_lexer": "ipython3",
   "version": "3.8.10"
  }
 },
 "nbformat": 4,
 "nbformat_minor": 5
}
