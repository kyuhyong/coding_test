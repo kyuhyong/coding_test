{
 "cells": [
  {
   "cell_type": "code",
   "execution_count": 1,
   "id": "97b8b6a0",
   "metadata": {},
   "outputs": [],
   "source": [
    "# n개의 정수로 이루어진 임의의 수열이 주어진다. \n",
    "# 우리는 이 중 연속된 몇 개의 수를 선택해서 구할 수 있는 합 중 가장 큰 합을 구하려고 한다. \n",
    "# 단, 수는 한 개 이상 선택해야 한다.\n",
    "\n",
    "# 예를 들어서 10, -4, 3, 1, 5, 6, -35, 12, 21, -1 이라는 수열이 주어졌다고 하자. \n",
    "# 여기서 정답은 12+21인 33이 정답이 된다."
   ]
  },
  {
   "cell_type": "code",
   "execution_count": 2,
   "id": "89b558d7",
   "metadata": {},
   "outputs": [],
   "source": [
    "# 입력: \n",
    "# 첫째 줄에 정수 n(1 ≤ n ≤ 100,000)이 주어지고 \n",
    "# 둘째 줄에는 n개의 정수로 이루어진 수열이 주어진다. \n",
    "# 수는 -1,000보다 크거나 같고, 1,000보다 작거나 같은 정수이다.\n",
    "\n",
    "# 출력\n",
    "# 첫째 줄에 답을 출력한다."
   ]
  },
  {
   "cell_type": "code",
   "execution_count": 13,
   "id": "50a060bf",
   "metadata": {},
   "outputs": [
    {
     "name": "stdout",
     "output_type": "stream",
     "text": [
      "[10, 6, 9, 10, 15, 21, -14, 12, 33, 32]\n",
      "33\n",
      "[2, 3, -1, 3, 7, 3, 9, 14, 9, 10]\n",
      "14\n",
      "[-1, -2, -3, -4, -5]\n",
      "-1\n"
     ]
    }
   ],
   "source": [
    "#n=int(input())\n",
    "#arr = list(map(int, input().split()))\n",
    "n1=10\n",
    "arr1= [10, -4, 3, 1, 5, 6, -35, 12, 21, -1]\n",
    "n2=10\n",
    "arr2=[2, 1, -4, 3, 4, -4, 6, 5, -5, 1]\n",
    "n3=5\n",
    "arr3=[-1, -2, -3, -4, -5]\n",
    "def solution(N, A):\n",
    "    d=[0]*N\n",
    "    d[0] = A[0]\n",
    "    for i in range(1, N):\n",
    "        if d[i-1] + A[i] > A[i]:\n",
    "            d[i] = d[i-1] + A[i]\n",
    "        else:\n",
    "            d[i] = A[i]\n",
    "    print(d)\n",
    "    return max(d)\n",
    "\n",
    "print(solution(n1, arr1))\n",
    "print(solution(n2, arr2))\n",
    "print(solution(n3, arr3))"
   ]
  },
  {
   "cell_type": "code",
   "execution_count": null,
   "id": "accdd473",
   "metadata": {},
   "outputs": [],
   "source": []
  }
 ],
 "metadata": {
  "kernelspec": {
   "display_name": "Python 3 (ipykernel)",
   "language": "python",
   "name": "python3"
  },
  "language_info": {
   "codemirror_mode": {
    "name": "ipython",
    "version": 3
   },
   "file_extension": ".py",
   "mimetype": "text/x-python",
   "name": "python",
   "nbconvert_exporter": "python",
   "pygments_lexer": "ipython3",
   "version": "3.8.10"
  }
 },
 "nbformat": 4,
 "nbformat_minor": 5
}
