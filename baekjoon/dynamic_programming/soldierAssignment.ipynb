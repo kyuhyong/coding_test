{
 "cells": [
  {
   "cell_type": "code",
   "execution_count": 2,
   "id": "ffb509b4",
   "metadata": {},
   "outputs": [],
   "source": [
    "# N명의 병사가 무작위로 나열되어 있다. 각 병사는 특정한 값의 전투력을 보유하고 있으며, \n",
    "# 병사를 배치할 때는 전투력이 높은 병사가 앞쪽에 오도록 내림차순으로 배치를 하고자 한다. \n",
    "# 다시 말해 앞쪽에 있는 병사의 전투력이 항상 뒤쪽에 있는 병사보다 높아야 한다.\n",
    "\n",
    "# 또한 배치 과정에서는 특정한 위치에 있는 병사를 열외시키는 방법을 이용한다. \n",
    "# 그러면서도 남아있는 병사의 수가 최대가 되도록 하고 싶다.\n",
    "\n",
    "# 예를 들어, N=7일 때 나열된 병사들의 전투력이 다음과 같다고 가정하자.\n",
    "\n",
    "# 병사 번호 | 1 | 2 | 3 | 4 | 5 | 6 | 7 |\n",
    "#  전투력  | 15| 11| 4 | 8 | 5 | 2 | 4 |\n",
    "\n",
    "# 이 때 3번 병사와 6번 병사를 열외시키면, 다음과 같이 남아있는 병사의 수가 \n",
    "# 내림차순의 형태가 되며 5명이 된다. \n",
    "# 이는 남아있는 병사의 수가 최대가 되도록 하는 방법이다.\n",
    "\n",
    "# 병사 번호 | 1 | 2 | 4 | 5 | 7 |\n",
    "#  전투력  | 15| 11| 8 | 5 | 4 |\n",
    "\n",
    "# 병사에 대한 정보가 주어졌을 때, 남아있는 병사의 수가 최대가 되도록 하기 위해서 \n",
    "# 열외해야 하는 병사의 수를 출력하는 프로그램을 작성하시오.\n",
    "\n"
   ]
  },
  {
   "cell_type": "code",
   "execution_count": 3,
   "id": "2c772c05",
   "metadata": {},
   "outputs": [],
   "source": [
    "# 입력\n",
    "# 첫째 줄에 N이 주어진다. (1 ≤ N ≤ 2,000) \n",
    "# 둘째 줄에 각 병사의 전투력이 공백을 기준으로 구분되어 차례대로 주어진다. \n",
    "# 각 병사의 전투력은 10,000,000보다 작거나 같은 자연수이다.\n",
    "\n",
    "# 출력\n",
    "# 첫째 줄에 남아있는 병사의 수가 최대가 되도록 하기 위해서 \n",
    "# 열외해야 하는 병사의 수를 출력한다."
   ]
  },
  {
   "cell_type": "code",
   "execution_count": 8,
   "id": "da6e8469",
   "metadata": {},
   "outputs": [
    {
     "name": "stdout",
     "output_type": "stream",
     "text": [
      "0\n"
     ]
    }
   ],
   "source": [
    "# my approach\n",
    "# 추세선에서 local minimal을 구하는 방법으로 접근하였으나 런타임 에러 발생\n",
    "\n",
    "#n=int(intput())\n",
    "#arr = list(map(int, input().split()))\n",
    "n=7\n",
    "arr=[15, 11, 4, 8, 5, 2, 4]\n",
    "n1=3\n",
    "arr1=[15, 11, 5]\n",
    "\n",
    "def solution(N, A):\n",
    "    \n",
    "    if N < 2:\n",
    "        return 0\n",
    "    count = 0\n",
    "    for i in range(2, N):\n",
    "        if (A[i]-A[i-1])>0 and (A[i-1]-A[i-2]<0):\n",
    "            count+=1\n",
    "    return count\n",
    "\n",
    "print(solution(n1, arr1))\n"
   ]
  },
  {
   "cell_type": "code",
   "execution_count": 9,
   "id": "dbdf233e",
   "metadata": {},
   "outputs": [],
   "source": [
    "# 가장 긴 증가하는 부분 수열(LIS)로 풀기\n",
    "# dp는 1로 초기화 하고 \n",
    "# 점화식: 모든 0<=j<i 에 대해,\n",
    "# dp[i] = max(dp[i], dp[j]+1) if A[j] > A[i]\n",
    "# 이후 dp의 최대값을 구하면 가장 긴 내림차순 부분 수열의 길이가 되고,\n",
    "# 이 값을 전체 병사의 수인 N에서 빼주면 열외할 병사의 수를 구할 수 있다"
   ]
  },
  {
   "cell_type": "code",
   "execution_count": 13,
   "id": "b9f6c256",
   "metadata": {},
   "outputs": [
    {
     "name": "stdout",
     "output_type": "stream",
     "text": [
      "[1, 2, 3, 3, 4, 5, 5]\n",
      "2\n",
      "[1, 2, 2]\n",
      "1\n"
     ]
    }
   ],
   "source": [
    "#n=int(input())\n",
    "#arr = list(map(int, input().split()))\n",
    "n=7\n",
    "arr=[15, 11, 4, 8, 5, 2, 4]\n",
    "n1=3\n",
    "arr1=[15, 5, 12]\n",
    "\n",
    "def solution(N, A):\n",
    "    \n",
    "    d=[1]*N\n",
    "    #d[0] = 1\n",
    "    for i in range (0,N):\n",
    "        for j in range(0,i):\n",
    "            if A[j] > A[i]:\n",
    "                d[i] = max(d[i], d[j]+1)\n",
    "    print(d)\n",
    "    return (N-max(d))\n",
    "\n",
    "print(solution(n, arr))\n",
    "print(solution(n1, arr1))"
   ]
  },
  {
   "cell_type": "code",
   "execution_count": 14,
   "id": "43ef618a",
   "metadata": {},
   "outputs": [
    {
     "name": "stdout",
     "output_type": "stream",
     "text": [
      "1\n"
     ]
    }
   ],
   "source": [
    "# 이진 탐색으로 구하는 방법 ???\n",
    "#n=int(input())\n",
    "#arr = list(map(int, input().split()))\n",
    "n=7\n",
    "arr=[15, 11, 4, 8, 5, 2, 4]\n",
    "n1=3\n",
    "arr1=[15, 5, 12]\n",
    "\n",
    "def lower_bound(nums, target):\n",
    "    \n",
    "    left, right = 0, len(nums)\n",
    "    \n",
    "    while left < right:  #left와 right가 만나는 지점이 target값 이상이 처음 나오는 위치\n",
    "        mid = left + (right - left) // 2\n",
    "        \n",
    "        if nums[mid] < target:\n",
    "            left = mid + 1\n",
    "        else:\n",
    "            right = mid\n",
    "    \n",
    "    return right\n",
    "\n",
    "\n",
    "def solution(N, A):\n",
    "    \n",
    "    L=[1]*N\n",
    "    L[0] = A[0]\n",
    "    length = 1\n",
    "\n",
    "    for i in range (1,N-1):\n",
    "        if L[length] < A[i]:\n",
    "            L[length+1] = A[i]\n",
    "        else:\n",
    "            lower_bound(L, L+length)\n",
    "        \n",
    "    return length\n",
    "\n",
    "print(solution(n, arr))"
   ]
  },
  {
   "cell_type": "code",
   "execution_count": null,
   "id": "e45aa136",
   "metadata": {},
   "outputs": [],
   "source": []
  }
 ],
 "metadata": {
  "kernelspec": {
   "display_name": "Python 3 (ipykernel)",
   "language": "python",
   "name": "python3"
  },
  "language_info": {
   "codemirror_mode": {
    "name": "ipython",
    "version": 3
   },
   "file_extension": ".py",
   "mimetype": "text/x-python",
   "name": "python",
   "nbconvert_exporter": "python",
   "pygments_lexer": "ipython3",
   "version": "3.8.10"
  }
 },
 "nbformat": 4,
 "nbformat_minor": 5
}
