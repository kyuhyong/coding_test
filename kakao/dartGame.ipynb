{
 "cells": [
  {
   "cell_type": "code",
   "execution_count": 1,
   "id": "d7f3fcf0",
   "metadata": {},
   "outputs": [],
   "source": [
    "# 다트 게임의 점수 계산 로직은 아래와 같다.\n",
    "\n",
    "# 다트 게임은 총 3번의 기회로 구성된다.\n",
    "# 각 기회마다 얻을 수 있는 점수는 0점에서 10점까지이다.\n",
    "# 점수와 함께 Single(S), Double(D), Triple(T) 영역이 존재하고 \n",
    "# 각 영역 당첨 시 점수에서 1제곱, 2제곱, 3제곱 (점수^1 , 점수^2 , 점수^3 )으로 계산된다.\n",
    "# 옵션으로 스타상(*) , 아차상(#)이 존재하며 \n",
    "# - 스타상(*) 당첨 시 해당 점수와 바로 전에 얻은 점수를 각 2배로 만든다. \n",
    "# - 아차상(#) 당첨 시 해당 점수는 마이너스된다.\n",
    "# 스타상(*)은 첫 번째 기회에서도 나올 수 있다. 이 경우 첫 번째 스타상(*)의 점수만 2배가 된다. (예제 4번 참고)\n",
    "# 스타상(*)의 효과는 다른 스타상(*)의 효과와 중첩될 수 있다. 이 경우 중첩된 스타상(*) 점수는 4배가 된다. (예제 4번 참고)\n",
    "# 스타상(*)의 효과는 아차상(#)의 효과와 중첩될 수 있다. 이 경우 중첩된 아차상(#)의 점수는 -2배가 된다. (예제 5번 참고)\n",
    "# Single(S), Double(D), Triple(T)은 점수마다 하나씩 존재한다.\n",
    "# 스타상(*), 아차상(#)은 점수마다 둘 중 하나만 존재할 수 있으며, 존재하지 않을 수도 있다.\n",
    "\n",
    "# 0~10의 정수와 문자 S, D, T, *, #로 구성된 문자열이 입력될 시 총점수를 반환하는 함수를 작성하라."
   ]
  },
  {
   "cell_type": "code",
   "execution_count": 2,
   "id": "2baa1422",
   "metadata": {},
   "outputs": [],
   "source": [
    "# 입력 형식\n",
    "# “점수|보너스|[옵션]”으로 이루어진 문자열 3세트.\n",
    "# 예) 1S2D*3T\n",
    "\n",
    "# 점수는 0에서 10 사이의 정수이다.\n",
    "# 보너스는 S, D, T 중 하나이다.\n",
    "# 옵선은 *이나 # 중 하나이며, 없을 수도 있다.\n",
    "\n",
    "# 출력 형식\n",
    "# 3번의 기회에서 얻은 점수 합계에 해당하는 정수값을 출력한다.\n",
    "# 예) 37"
   ]
  },
  {
   "cell_type": "code",
   "execution_count": 3,
   "id": "f8194710",
   "metadata": {},
   "outputs": [],
   "source": [
    "# 예제\tdartResult\tanswer\t설명\n",
    "# 1    1S2D*3T\t       37\t1^1 * 2 + 2^2 * 2 + 3^3\n",
    "# 2    1D2S#10S\t       9\t1^2 + 2^1 * (-1) + 10^1\n",
    "# 3    1D2S0T\t       3\t1^2 + 2^1 + 0^3\n",
    "# 4    1S*2T*3S\t      23\t1^1 * 2 * 2 + 2^3 * 2 + 3^1\n",
    "# 5    1D#2S*3S\t       5\t1^2 * (-1) * 2 + 2^1 * 2 + 3^1\n",
    "# 6    1T2D3D#\t      -4\t1^3 + 2^2 + 3^2 * (-1)\n",
    "# 7    1D2S3T*\t      59\t1^2 + 2^1 * 2 + 3^3 * 2"
   ]
  },
  {
   "cell_type": "code",
   "execution_count": 18,
   "id": "b2bc2377",
   "metadata": {},
   "outputs": [
    {
     "name": "stdout",
     "output_type": "stream",
     "text": [
      "[2, 8, 27]\n",
      "37\n",
      "[1, -2, 10]\n",
      "9\n",
      "[1, 2, 0]\n",
      "3\n",
      "[4, 16, 3]\n",
      "23\n",
      "[-2, 4, 3]\n",
      "5\n",
      "[1, 4, -9]\n",
      "-4\n",
      "[1, 4, 54]\n",
      "59\n"
     ]
    }
   ],
   "source": [
    "msg1=\"1S2D*3T\"\n",
    "msg2=\"1D2S#10S\"\n",
    "msg3=\"1D2S0T\"\n",
    "msg4=\"1S*2T*3S\"\n",
    "msg5=\"1D#2S*3S\"\n",
    "msg6=\"1T2D3D#\"\n",
    "msg7=\"1D2S3T*\"\n",
    "\n",
    "def solution(A):\n",
    "    pointOrder = -1\n",
    "    points = [0]*3\n",
    "    digits = 0\n",
    "    tmpPoint = 0\n",
    "    for char in A:\n",
    "        if char >= '0' and char <='9':\n",
    "            if digits == 1: # for 10\n",
    "                tempPoint = 10\n",
    "            else:\n",
    "                tempPoint = int(char)\n",
    "                digits = 1\n",
    "                pointOrder+=1\n",
    "        elif char == 'S' or char == 'D' or char == 'T':\n",
    "            if char == 'S':\n",
    "                tempPoint = tempPoint**1\n",
    "            elif char == 'D':\n",
    "                tempPoint = tempPoint**2\n",
    "            elif char == 'T':\n",
    "                tempPoint = tempPoint**3\n",
    "            digits = 0\n",
    "            points[pointOrder] = tempPoint\n",
    "        else:\n",
    "            if char == '*':\n",
    "                if pointOrder > 0:\n",
    "                    points[pointOrder - 1]*=2\n",
    "                points[pointOrder] = tempPoint * 2\n",
    "            elif char == '#':\n",
    "                points[pointOrder] = tempPoint * -1\n",
    "    \n",
    "    print(points)\n",
    "    return points[0]+points[1]+points[2]\n",
    "    \n",
    "print(solution(msg1))\n",
    "print(solution(msg2))\n",
    "print(solution(msg3))\n",
    "print(solution(msg4))\n",
    "print(solution(msg5))\n",
    "print(solution(msg6))\n",
    "print(solution(msg7))"
   ]
  },
  {
   "cell_type": "code",
   "execution_count": null,
   "id": "5eba0002",
   "metadata": {},
   "outputs": [],
   "source": []
  }
 ],
 "metadata": {
  "kernelspec": {
   "display_name": "Python 3 (ipykernel)",
   "language": "python",
   "name": "python3"
  },
  "language_info": {
   "codemirror_mode": {
    "name": "ipython",
    "version": 3
   },
   "file_extension": ".py",
   "mimetype": "text/x-python",
   "name": "python",
   "nbconvert_exporter": "python",
   "pygments_lexer": "ipython3",
   "version": "3.8.10"
  }
 },
 "nbformat": 4,
 "nbformat_minor": 5
}
