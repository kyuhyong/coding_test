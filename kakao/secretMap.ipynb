{
 "cells": [
  {
   "cell_type": "code",
   "execution_count": 1,
   "id": "5f1b18e7",
   "metadata": {},
   "outputs": [],
   "source": [
    "# 네오는 평소 프로도가 비상금을 숨겨놓는 장소를 알려줄 비밀지도를 손에 넣었다. \n",
    "# 그런데 이 비밀지도는 숫자로 암호화되어 있어 위치를 확인하기 위해서는 암호를 해독해야 한다. \n",
    "# 다행히 지도 암호를 해독할 방법을 적어놓은 메모도 함께 발견했다.\n",
    "\n",
    "# 지도는 한 변의 길이가 n인 정사각형 배열 형태로, 각 칸은 “공백”(“ “) 또는 “벽”(“#”) 두 종류로 이루어져 있다.\n",
    "# 전체 지도는 두 장의 지도를 겹쳐서 얻을 수 있다. \n",
    "# 각각 “지도 1”과 “지도 2”라고 하자. \n",
    "# 지도 1 또는 지도 2 중 어느 하나라도 벽인 부분은 전체 지도에서도 벽이다. \n",
    "# 지도 1과 지도 2에서 모두 공백인 부분은 전체 지도에서도 공백이다.\n",
    "# “지도 1”과 “지도 2”는 각각 정수 배열로 암호화되어 있다.\n",
    "# 암호화된 배열은 지도의 각 가로줄에서 벽 부분을 1, 공백 부분을 0으로 부호화했을 때 얻어지는 이진수에 해당하는 값의 배열이다.\n",
    "\n",
    "# \" #  #\" = 01001 = 9\n",
    "# \"# #  \" = 10100 = 20\n",
    "# \"###  \" = 11100 = 28\n",
    "# \"#  # \" = 10010 = 18\n",
    "# \" # ##\" = 01011 = 11\n",
    "\n",
    "# \"#### \" = 11110 = 30\n",
    "# \"    #\" = 00001 =  1\n",
    "# \"# # #\" = 10101 = 21\n",
    "# \"#   #\" = 10001 = 17\n",
    "# \"###  \" = 11100 = 28\n",
    "\n",
    "# \"#####\" = 11111\n",
    "# \"# # #\" = 10101\n",
    "# \"### #\" = 11101\n",
    "# \"#  ##\" = 10011\n",
    "# \"#####\" = 11111\n"
   ]
  },
  {
   "cell_type": "code",
   "execution_count": 2,
   "id": "796914c4",
   "metadata": {},
   "outputs": [],
   "source": [
    "# 입력 형식\n",
    "# 지도 한변의 크기 n과 2개의 정수 배열 arr1, arr2\n",
    "# 1 <= n <= 16\n",
    "# arr1, arr2 는 길이 n인 정수 배열로 주어진다.\n",
    "# 정수 배열의 각 원소 x를 이진수로 변환했을 때의 길이는 n 이하이다. \n",
    "# 즉, 0 <= x <= 2^n-1 을 만족한다.\n",
    "\n",
    "# 출력 형식\n",
    "# 비밀 지도를 해독하여 \"#\", 공백으로 구정된 문자열 배열로 출력"
   ]
  },
  {
   "cell_type": "code",
   "execution_count": 3,
   "id": "e4afdfa7",
   "metadata": {},
   "outputs": [],
   "source": [
    "# 예제\n",
    "# n=5\n",
    "# arr1 = [9,20,28,18,11]\n",
    "# arr2 = [30,1,21,17,28]\n",
    "# 출력 = [\"#####\", \"# # #\", \"### #\", \"# ##\", \"#####\"]"
   ]
  },
  {
   "cell_type": "code",
   "execution_count": 4,
   "id": "295e1abb",
   "metadata": {},
   "outputs": [],
   "source": [
    "# n=6\n",
    "# arr1 = [46, 33, 33 ,22, 31, 50]\n",
    "# arr2 = [27 ,56, 19, 14, 14, 10]\n",
    "# 출력 = [\"######\", \"### #\", \"## ##\", \" #### \", \" #####\", \"### # \"]"
   ]
  },
  {
   "cell_type": "code",
   "execution_count": 18,
   "id": "b5d6a185",
   "metadata": {},
   "outputs": [
    {
     "name": "stdout",
     "output_type": "stream",
     "text": [
      "['#####', '# # #', '### #', '#  ##', '#####']\n"
     ]
    }
   ],
   "source": [
    "n = 5\n",
    "arr1 = [9,20,28,18,11]\n",
    "arr2 = [30,1,21,17,28]\n",
    "\n",
    "def solution(N, A, B):\n",
    "    blocks = ['#', ' ']\n",
    "    sol = []\n",
    "    for i in range(N):\n",
    "        num = A[i] | B[i]\n",
    "        #print('{0:0b}'.format(num))\n",
    "        sol.append(num)\n",
    "        #sol.append(\"{0:b}\".format(num))\n",
    "    #print(sol)\n",
    "    trans = str.maketrans('01', ' #')\n",
    "    out = [f'{x:b}'.translate(trans) for x in sol]\n",
    "    return out\n",
    "\n",
    "print(solution(n, arr1, arr2))"
   ]
  },
  {
   "cell_type": "code",
   "execution_count": null,
   "id": "05a6f2bc",
   "metadata": {},
   "outputs": [],
   "source": []
  }
 ],
 "metadata": {
  "kernelspec": {
   "display_name": "Python 3 (ipykernel)",
   "language": "python",
   "name": "python3"
  },
  "language_info": {
   "codemirror_mode": {
    "name": "ipython",
    "version": 3
   },
   "file_extension": ".py",
   "mimetype": "text/x-python",
   "name": "python",
   "nbconvert_exporter": "python",
   "pygments_lexer": "ipython3",
   "version": "3.8.10"
  }
 },
 "nbformat": 4,
 "nbformat_minor": 5
}
